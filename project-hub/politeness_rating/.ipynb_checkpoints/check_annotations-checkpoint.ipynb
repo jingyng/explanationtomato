{
 "cells": [
  {
   "cell_type": "code",
   "execution_count": 2,
   "id": "f64cbd11-0c95-4fa5-9314-5a78a400519e",
   "metadata": {
    "tags": []
   },
   "outputs": [],
   "source": [
    "import pandas as pd\n",
    "from collections import defaultdict\n",
    "import json\n",
    "import krippendorff\n",
    "import numpy as np\n",
    "from scipy import stats\n",
    "import seaborn as sns\n",
    "import string\n",
    "import re\n",
    "import collections\n",
    "import statsmodels.api as sm\n",
    "from statsmodels.formula.api import ols, mixedlm\n",
    "import random\n",
    "import matplotlib.pyplot as plt\n",
    "import matplotlib.colors\n",
    "#import plotly.express as px\n",
    "#import geopandas\n",
    "import matplotlib.pyplot as plt\n",
    "import matplotlib.colors\n",
    "import matplotlib.cm as cm"
   ]
  },
  {
   "cell_type": "code",
   "execution_count": 3,
   "id": "98e02498-618d-47e3-9635-2264d92246cc",
   "metadata": {
    "tags": []
   },
   "outputs": [],
   "source": [
    "def results_summary_to_dataframe(results):\n",
    "    '''take the result of an statsmodel results table and transforms it into a dataframe'''\n",
    "    pvals = results.pvalues\n",
    "    coeff = results.params\n",
    "    se = results.bse\n",
    "    conf_lower = results.conf_int()[0]\n",
    "    conf_higher = results.conf_int()[1]\n",
    "\n",
    "    results_df = pd.DataFrame({\"p value\":pvals,\n",
    "                               \"coeff\":coeff,\n",
    "                               \"SE\":se,\n",
    "                               \"conf_lower\":conf_lower,\n",
    "                               \"conf_higher\":conf_higher\n",
    "                                })\n",
    "\n",
    "    #Reordering...\n",
    "    results_df = results_df.reset_index()\n",
    "    results_df['term'] = results_df['index']\n",
    "    return results_df\n",
    "\n",
    "def add_star(p):\n",
    "    sig = ' '\n",
    "    if p < 0.05:\n",
    "        sig = '*'\n",
    "    else:\n",
    "        sig = ' '\n",
    "    if p < 0.01:\n",
    "        sig = '**'\n",
    "    if p < 0.001:\n",
    "        sig = '***'\n",
    "   \n",
    "    return sig\n",
    "\n",
    "        \n",
    "def plot_reg_results(df, nrows = 1, ncols = 1, figsize=(4, 2), xlabel='xlabel', labels = None, title='', filename=None):\n",
    "    #df = df.sort_values('coeff')\n",
    "    xs = df['coeff']\n",
    "    norm = matplotlib.colors.Normalize(vmin=min(xs)*2, vmax=max(xs)*2)\n",
    "    mapper = cm.ScalarMappable(norm=norm, cmap='viridis')\n",
    "    colors = np.array([(mapper.to_rgba(v)) for v in xs])\n",
    "    en_len = int(len(df))\n",
    "    \n",
    "    fig, axes = plt.subplots(nrows=nrows, ncols=ncols, figsize=figsize)\n",
    "    axes=[axes] if nrows + ncols <= 2 else axes\n",
    "    plt.tight_layout()\n",
    "    plt.subplots_adjust(wspace=0.6)\n",
    "    #plt.title('Uncertainty in Fields')\n",
    "    st = fig.suptitle(\"\", fontsize=14)\n",
    "    #sigg = fig.suptitle(\"Signif. codes:  0 ‘***’ 0.001 ‘**’ 0.01 ‘*’ 0.05 ‘.’ 0.1 ‘ ’ 1\", fontsize=14)\n",
    "    for i in range(len(axes)):\n",
    "        ax = axes[i]\n",
    "        ax.set_ylim(-0.7, len(df['term'][:en_len])-0.2)\n",
    "        ax.axvline(x=0.00,color='black',linewidth=1.7,linestyle='-')\n",
    "        ax.xaxis.grid(True)\n",
    "        ax.yaxis.label.set_color('white')\n",
    "        #ax.set_xticks([-0.5, 0.0, 0.5, 1,0])\n",
    "        #ax.set_xlabel(r\"%s ($\\beta$ coef.)\"%xlabel, fontsize=14)\n",
    "        ax.set_xlabel(xlabel,fontsize=14)\n",
    "        #ax.set_xticks([-0.04, -0.02, 0, 0.02, 0.04])\n",
    "        #ax.set_title(r\"%s\"%(labels[i] if labels else dvs[i]), fontsize=14)\n",
    "        s = en_len*i\n",
    "        en = en_len*(i+1)\n",
    "        for x, y, e, p, color in zip(df['coeff'][s:en], df['term'][s:en], df['SE'][s:en],df['p value'][s:en], colors[s:en]):\n",
    "            #plt.plot(x, y, 'o', color=color)\n",
    "            ax.errorbar(x=[x], y=[y], xerr=[e], color=color,fmt='o')\n",
    "            sig = ' '\n",
    "            if p < 0.05:\n",
    "                sig = '*'\n",
    "            if p < 0.01:\n",
    "                sig = '**'\n",
    "            if p < 0.001:\n",
    "                sig = '***'\n",
    "            ax.annotate(sig, # this is the text\n",
    "                     (x+0.00001,y), # this is the point to label\n",
    "                     textcoords=\"offset points\", # how to position the text\n",
    "                     xytext=(0,-0.5), # distance from text to points (x,y)\n",
    "                     ha='center') # horizontal alignment can be left, right or center\n",
    "\n",
    "        #ax.set_xticklabels([-0.04, -0.02, 0, 0.02, 0.04], fontsize=14)\n",
    "        ax.set_yticklabels(list(df['term']), fontsize=14)\n",
    "\n",
    "    #fig.text(0.5, 0.04, 'common X', ha='center')\n",
    "    st.set_y(-0.02)\n",
    "    #sigg.set_y(-0.12)\n",
    "    fig.text(0.5, -0.17, s=\"%s\"%title,ha='center',fontsize=14)\n",
    "    fig.text(0.5, -0.18, s=\"Signif. codes:  0 ‘***’ 0.001 ‘**’ 0.01 ‘*’ 0.05\",ha='center',fontsize=9)\n",
    "    if filename:\n",
    "        plt.savefig('../figures/%s.pdf'%filename, bbox_inches='tight')"
   ]
  },
  {
   "cell_type": "code",
   "execution_count": 4,
   "id": "b6402b8e-715f-46b4-8d6e-fd792f3c3cfa",
   "metadata": {
    "tags": []
   },
   "outputs": [],
   "source": [
    "def convert_data(df):\n",
    "    return_dict = defaultdict(list)\n",
    "    cols = list(df.columns)\n",
    "    for i, row in df.iterrows():\n",
    "        item = {}\n",
    "        for key_label in cols:\n",
    "            key = key_label.split(\":::\")\n",
    "            if len(key) == 1:\n",
    "                item[key[0]] = row[key_label]\n",
    "            elif key[0] == 'span_annotation':\n",
    "                item[key[0]] = eval(row[key_label])\n",
    "            elif key[1]=='bad_text':\n",
    "                item['bad_text'] = row[key_label]\n",
    "            elif len(key) == 2:\n",
    "                #print(str(row[key_label]))\n",
    "                if key[0] not in item:\n",
    "                    item[key[0]] = None\n",
    "                if str(row[key_label]) != 'nan':\n",
    "                    item[key[0]] = row[key_label]\n",
    "                #if key[0] not in item:\n",
    "                #    item[key[0]] = None\n",
    "                #if row[key_label] == True:\n",
    "                #    if key[1][:5] == 'scale':\n",
    "                #        item[key[0]] = int(key[1].split('_')[1])\n",
    "                #    else:\n",
    "                #        item[key[0]] = key[1]\n",
    "            else:\n",
    "                print('error key: ', key)\n",
    "        for key in item:\n",
    "            return_dict[key].append(item[key])\n",
    "    return pd.DataFrame(return_dict)\n",
    "\n",
    "question2key = {\n",
    "    \"What is your gender?\": \"gender\",\n",
    "    \"What is your age?\": \"age\",\n",
    "    \"How do you describe your race or ethnicity (You may select more than one option)\": \"race\",\n",
    "    \"What is your occupation?\": \"occupation\",\n",
    "    \"What is your education level?\": \"education\",\n",
    "    \"Consider you read this email from a colleague, how polite do you think it is?\": \"politeness\",\n",
    "}\n",
    "\n",
    "def get_user_dict(ann_df):\n",
    "    user_keys = set(ann_df['user'])\n",
    "    user_dict = {}\n",
    "    df = ann_df[ann_df.instance_id.str.contains('demographic_questions.html')]\n",
    "    for i, row in df.iterrows():\n",
    "        user_dict[row['user']] = {question2key[k] if k in question2key else k:v.split(':::')[-1] if type(v)==str else v for k,v in dict(row).items()}\n",
    "    return user_dict\n",
    "\n",
    "def attach_user_info(ann_df, user_dict, keys):\n",
    "    for key in keys:\n",
    "        ann_df[key] = [user_dict[user][key] if key in user_dict[user] else None for user in ann_df['user']]\n",
    "    return ann_df\n",
    "\n",
    "def edit_distance(str1, str2):\n",
    "    # Create a table to store the edit distances for substrings\n",
    "    m = len(str1)\n",
    "    n = len(str2)\n",
    "    dp = [[0 for _ in range(n + 1)] for _ in range(m + 1)]\n",
    "\n",
    "    # Initialize the table\n",
    "    for i in range(m + 1):\n",
    "        dp[i][0] = i\n",
    "    for j in range(n + 1):\n",
    "        dp[0][j] = j\n",
    "\n",
    "    # Compute the edit distances for substrings\n",
    "    for i in range(1, m + 1):\n",
    "        for j in range(1, n + 1):\n",
    "            if str1[i - 1] == str2[j - 1]:\n",
    "                dp[i][j] = dp[i - 1][j - 1]\n",
    "            else:\n",
    "                dp[i][j] = min(dp[i - 1][j], dp[i][j - 1], dp[i - 1][j - 1]) + 1\n",
    "\n",
    "    # The edit distance between the two strings is stored in the bottom-right cell\n",
    "    return dp[m][n]"
   ]
  },
  {
   "cell_type": "code",
   "execution_count": 5,
   "id": "5a9b8702-8018-42ac-ab46-1b8a1b141445",
   "metadata": {
    "tags": []
   },
   "outputs": [],
   "source": [
    "\n",
    "raw_df = pd.read_csv('data_files/politeness_rating_3718.csv')\n",
    "data_dict = {str(row['id']):dict(row) for i,row in raw_df.iterrows()}"
   ]
  },
  {
   "cell_type": "code",
   "execution_count": 6,
   "id": "ee737690-818a-43d4-b060-341d1c87177c",
   "metadata": {
    "tags": []
   },
   "outputs": [
    {
     "name": "stdout",
     "output_type": "stream",
     "text": [
      "{'kinda tedious.....   ;-)', 'I like the keyboard shortcuts, they made the survey very easy', 'Long load times between questions.', 'The listed phone number belongs to someone', 'Thanks', 'Interesting study, but slow loading.', 'the survey was longer than 7 minutes', 'Have a great day!', 'In some instances, I had to rate politeness differently than I would otherwise considering these are coming from a colleague', 'Probably should have been paid a bit more.', 'clean UI really easy to navigate survey- thank you :)', 'I enjoyed participating and wish you well with your research.', 'thanks for the study ', 'Most email are poorly structured and most look like texts rather than email! Says the former English teacher...', 'few were actually impolite (many were informal)', 'Most of the emails were polite or business like, but a few were rude.', 'no comments', 'That was fun, a little out-of-the ordinary.', \"Email etiquette is always a bit tricky - what you think is inoffensive may totally come across as hostile or demeaning. Don't have to do much with emails any more, b ut this was a nice reminder of my day job for 30 years!\", 'no', 'I appreciate the keyboard shortcuts', 'Thank you.', 'I like very much using short cut keys, good idea.', 'Thank you for the survey and stay safe.', 'thanks!', 'The information was clearly presented and the questions were easy to understand.  Also, there were no technical errors.  Good luck with your research.', 'Interesting website, I hope your research goes well.', 'No issues or problems in the study.', 'It was so enjoyable. Some were so rude I just giggled imagining somebody really typed and press send. ', 'NONE', 'this was fun', \"Some did not count as much as they seemed to be private messages to friends, they don't have to be formal or polite. \", 'None.', 'It was really interesting to read those e-mails', nan, 'This was a fun study and I am glad to contribute', 'The typos and errors in these emails are horrible. Also if they are from coworkers, then why so much personal talk? When you say politeness, was it in context or the writing? nobody used greetings and salutations, that was a lot of my not so polite votes ', 'Server might have been a bit slow. There was a lag between messages which slowed things down a little. Otherwise fine.', 'none', 'having the progress bar with a list of tasks is helpful, thanks', 'Thank you, the survey was enjoyable.', \"Comparing business email to casual comment for a category called 'politeness' doesnt make a lot of sense to me. When people speak casually to a friend and may be joking around they are not intending to be impolite and that cant really be compared to a business communication. A business communication is by definition something that should remain in a neutral or formal context unless it is clear that the two communicating are doing so on a personal, not business level. Thanks for allowing me to throw in my opinions.\", 'I really enjoyed your survey and would like to take more like it.  It was really clear and very smooth to take.', 'Thanks!', \"I found it confusing to run into the romantic email.  While it wasn't impolite it was improper in a business environment.  It left me puzzled - how should I mark it?  Finally I decided that it was impolite as it was sent on a business network.  But still ....? \", 'great study', 'Study moves very slowly.', 'None', 'Thank you ', 'It was interesting.', 'One of the emails was not in English, which I did not expect to happen.', \"I enjoyed it, but I didn't like reading all the curse words.\", 'A little over halfway through the study, the speed at which the next window came up suddenly slowed way down.', 'thanks', 'Great study!', 'I appreciate the opportunity to participate.  Some of these messages were really funny.  Hard to believe people would actually send that stuff out over company email.', 'Some of the words did not seem to be a word , like make sense. But great study glad to participate Thank You!', 'each email was slow to load', 'Just wanted to say the email about \"gas\" made me burst out laughing.  Thank you for that bit of catharsis and best of luck with your study.', \"I think this was the first study I've done for you.\", 'Great study enjoyed taking it everything went perfect.', 'Thanks for having me!', 'Interesting study', 'ty', 'Trying to move forward was difficult in some cases; the arrow was responding very slowley when I clicked on it -- somewhat frustrating', 'Great survey', 'No, thank you. I appreciate the opportunity to participate in this survey. ', 'Thank you for having a counter on the questions.'}\n"
     ]
    },
    {
     "name": "stderr",
     "output_type": "stream",
     "text": [
      "/var/folders/cj/_szp19bx18ncbq3vhgh2zj_80000gr/T/ipykernel_65375/802057447.py:2: DtypeWarning: Columns (12,17,23,25,26,27,30) have mixed types. Specify dtype option on import or set low_memory=False.\n",
      "  pd.read_csv('annotation_output/full/annotated_instances.tsv',sep='\\t')\n"
     ]
    }
   ],
   "source": [
    "data_df = pd.concat([\n",
    "    pd.read_csv('annotation_output/full/annotated_instances.tsv',sep='\\t')\n",
    "])\n",
    "print(set(data_df['Please feel free to leave any comments about our study (optional):::text_box']))"
   ]
  },
  {
   "cell_type": "code",
   "execution_count": 7,
   "id": "5dace9aa-c7e1-41f1-b176-6d1bb17b0217",
   "metadata": {
    "tags": []
   },
   "outputs": [],
   "source": [
    "data_df = convert_data(data_df)\n",
    "user_dict = get_user_dict(data_df)"
   ]
  },
  {
   "cell_type": "code",
   "execution_count": 8,
   "id": "d860bcbb-68c4-4c2e-a937-947bd745cd44",
   "metadata": {},
   "outputs": [
    {
     "data": {
      "text/plain": [
       "{'text_raw': 'Hey E, I have a question about my juices. What would you like me to paint? Thank you.',\n",
       " 'instance_id_raw': 655,\n",
       " 'user_raw': '6098164e4c37ed73ca9c74f5',\n",
       " 'text': 'Hey E, I have a question about my juices. What would you like me to paint? Thank you.',\n",
       " 'inferred_politeness': 4.194441,\n",
       " 'source': 'revised',\n",
       " 'len': 18,\n",
       " 'id': 0}"
      ]
     },
     "execution_count": 8,
     "metadata": {},
     "output_type": "execute_result"
    }
   ],
   "source": [
    "data_dict['0']"
   ]
  },
  {
   "cell_type": "code",
   "execution_count": 9,
   "id": "4b679fb7-ef4e-4a8e-af5f-06f21a73cf2f",
   "metadata": {
    "tags": []
   },
   "outputs": [],
   "source": [
    "ann_df = data_df[(~data_df.instance_id.str.contains('html'))&(data_df.user.isin(user_dict))]\n",
    "ann_df = ann_df.rename(columns=question2key)\n",
    "ann_df = attach_user_info(ann_df, user_dict, keys=['gender','race','age','education'])"
   ]
  },
  {
   "cell_type": "code",
   "execution_count": 10,
   "id": "2d3d5692-0c3b-47f4-b94f-ab856dabfff7",
   "metadata": {
    "tags": []
   },
   "outputs": [],
   "source": [
    "agree_df =  ann_df.rename(columns=question2key).pivot(index='instance_id', columns='user', values='politeness').sort_values('instance_id').reset_index()#[:-2]\n",
    "agree_df['text'] = [data_dict[it]['text'] for it in agree_df['instance_id']]\n",
    "agree_df['source'] = [data_dict[it]['source'] for it in agree_df['instance_id']]\n",
    "\n",
    "user_keys = list(set(ann_df['user']))\n",
    "p_dict = defaultdict(list)\n",
    "for i, row in agree_df.iterrows():\n",
    "    #print('Male',[row[it] for it in user_keys if str(row[it]) != 'nan' and user_dict[it]['gender']=='Male'])\n",
    "    #print('Female',[row[it] for it in user_keys if str(row[it]) != 'nan' and user_dict[it]['gender']=='Female'])\n",
    "    #male_s = \n",
    "    p_dict['scores'].append([it for it in row[user_keys] if str(it) != 'nan'])\n",
    "    p_dict['users'].append([it for it in user_keys if str(row[it]) != 'nan'])\n",
    "    #p_dict['male_intimacy'].append(get_mean([row[it] for it in user_keys if str(row[it]) != 'nan' and user_dict[it]['gender']=='Male']))\n",
    "    #p_dict['female_intimacy'].append(get_mean([row[it] for it in user_keys if str(row[it]) != 'nan' and user_dict[it]['gender']=='Female']))\n",
    "\n",
    "for key in p_dict:\n",
    "    agree_df[key] = p_dict[key]\n",
    "#agree_df['r1'] = [it[0] for it in agree_df['scores']]\n",
    "#agree_df['r2'] = [it[1] if len(it) == 2 else '' for it in agree_df['scores']]\n",
    "\n",
    "#agree_df['scores'] = p_dict['scores']\n",
    "#for key in ['gender']:\n",
    "#    agree_df[key] = [[user_dict[it][key] for it in s] for s in p_dict['users']]\n",
    "#agree_df['scores_num'] = [len(s) for s in p_dict['scores']]\n",
    "#agree_df['scores_std'] = [np.std(s) for s in p_dict['scores']]\n",
    "agree_df['label'] = [sum(s)/len(s) for s in p_dict['scores']]"
   ]
  },
  {
   "cell_type": "code",
   "execution_count": 70,
   "id": "e7c7e2d1-354f-4f0a-97b6-37d7b54a66de",
   "metadata": {
    "tags": []
   },
   "outputs": [],
   "source": [
    "agree_df.drop(columns=user_keys).to_csv('annotation_output/full/agg.csv',index=False)"
   ]
  },
  {
   "cell_type": "code",
   "execution_count": 11,
   "id": "6ba26582-17df-49df-ae2a-b25436fb29ef",
   "metadata": {
    "tags": []
   },
   "outputs": [
    {
     "data": {
      "text/plain": [
       "0.42702423908753273"
      ]
     },
     "execution_count": 11,
     "metadata": {},
     "output_type": "execute_result"
    }
   ],
   "source": [
    "krippendorff.alpha(np.array(agree_df[user_keys]).transpose(), level_of_measurement='ordinal')"
   ]
  },
  {
   "cell_type": "code",
   "execution_count": 12,
   "id": "de763300-1397-442d-b41e-200fa21237ae",
   "metadata": {
    "tags": []
   },
   "outputs": [
    {
     "data": {
      "text/plain": [
       "(25042, 3718, 506)"
      ]
     },
     "execution_count": 12,
     "metadata": {},
     "output_type": "execute_result"
    }
   ],
   "source": [
    "len(ann_df),len(set(ann_df['displayed_text'])), len(set(ann_df['user']))"
   ]
  },
  {
   "cell_type": "code",
   "execution_count": 81,
   "id": "a69f4609-6d2c-4e70-8748-7ad339465289",
   "metadata": {
    "tags": []
   },
   "outputs": [
    {
     "data": {
      "text/plain": [
       "{'American India or Alaska Native',\n",
       " 'Asian',\n",
       " 'Black or African American',\n",
       " 'Hebrew',\n",
       " 'Hispanic or Latino',\n",
       " 'Native Hawaiian or Pacific Islander',\n",
       " 'Prefer not to disclose',\n",
       " 'White'}"
      ]
     },
     "execution_count": 81,
     "metadata": {},
     "output_type": "execute_result"
    }
   ],
   "source": [
    "set(ann_df['race'])"
   ]
  },
  {
   "cell_type": "code",
   "execution_count": 91,
   "id": "778ab50f-859f-44a7-ad6f-f9eb8d67aaed",
   "metadata": {},
   "outputs": [
    {
     "name": "stdout",
     "output_type": "stream",
     "text": [
      "                   Mixed Linear Model Regression Results\n",
      "============================================================================\n",
      "Model:                   MixedLM       Dependent Variable:       politeness \n",
      "No. Observations:        23700         Method:                   REML       \n",
      "No. Groups:              3718          Scale:                    0.8860     \n",
      "Min. group size:         2             Log-Likelihood:           -35558.1555\n",
      "Max. group size:         8             Converged:                Yes        \n",
      "Mean group size:         6.4                                                \n",
      "----------------------------------------------------------------------------\n",
      "                                  Coef.  Std.Err.   z    P>|z| [0.025 0.975]\n",
      "----------------------------------------------------------------------------\n",
      "Intercept                          3.167    0.035 89.497 0.000  3.098  3.236\n",
      "gender[T.Non-binary]              -0.048    0.042 -1.149 0.250 -0.130  0.034\n",
      "gender[T.Woman]                   -0.042    0.014 -3.116 0.002 -0.069 -0.016\n",
      "race[T.Black or African American]  0.192    0.032  6.105 0.000  0.131  0.254\n",
      "race[T.Hispanic or Latino]         0.057    0.036  1.607 0.108 -0.013  0.127\n",
      "race[T.White]                      0.060    0.027  2.212 0.027  0.007  0.113\n",
      "age[T.25-29]                       0.291    0.030  9.630 0.000  0.232  0.350\n",
      "age[T.30-34]                       0.078    0.028  2.764 0.006  0.023  0.133\n",
      "age[T.35-39]                       0.169    0.031  5.376 0.000  0.107  0.230\n",
      "age[T.40-44]                       0.137    0.029  4.704 0.000  0.080  0.194\n",
      "age[T.45-49]                       0.296    0.031  9.677 0.000  0.236  0.355\n",
      "age[T.50-54]                       0.305    0.030 10.275 0.000  0.247  0.363\n",
      "age[T.54-59]                       0.198    0.029  6.717 0.000  0.140  0.255\n",
      "age[T.60-64]                       0.249    0.029  8.623 0.000  0.192  0.305\n",
      "age[T.>65]                         0.209    0.028  7.508 0.000  0.155  0.264\n",
      "education[T.College degree]       -0.145    0.015 -9.394 0.000 -0.176 -0.115\n",
      "education[T.Graduate degree]      -0.135    0.020 -6.837 0.000 -0.174 -0.097\n",
      "Group Var                          0.698    0.023                           \n",
      "============================================================================\n",
      "\n"
     ]
    }
   ],
   "source": [
    "t_df = ann_df[~ann_df['education'].isin(['Other','Prefer not to disclose','Less than a high school diploma'])]\n",
    "t_df = t_df[~t_df.race.isin(['Prefer not to disclose','Native Hawaiian or Pacific Islander','American India or Alaska Native'])]\n",
    "t_df = t_df[~t_df.gender.isin(['Prefer not to disclose'])]\n",
    "t_df['education'] = ['0' if it == 'High school diploma or equivalent' else it for it in t_df['education']]\n",
    "mod = mixedlm(formula = 'politeness' + ' ~ gender + race + age + education', \n",
    "                      data=t_df, groups = t_df['instance_id'])\n",
    "res = mod.fit()\n",
    "print(res.summary())\n",
    "res_df =  results_summary_to_dataframe(res)"
   ]
  },
  {
   "cell_type": "code",
   "execution_count": 92,
   "id": "f9f4074b-d42c-4644-88d9-11fd98a4a02b",
   "metadata": {
    "tags": []
   },
   "outputs": [
    {
     "name": "stdout",
     "output_type": "stream",
     "text": [
      "\\begin{table}\n",
      "\\caption{Mixed Linear Model Regression Results}\n",
      "\\label{}\n",
      "\\begin{center}\n",
      "\\begin{tabular}{llll}\n",
      "\\hline\n",
      "Model:            & MixedLM & Dependent Variable: & politeness   \\\\\n",
      "No. Observations: & 23700   & Method:             & REML         \\\\\n",
      "No. Groups:       & 3718    & Scale:              & 0.8860       \\\\\n",
      "Min. group size:  & 2       & Log-Likelihood:     & -35558.1555  \\\\\n",
      "Max. group size:  & 8       & Converged:          & Yes          \\\\\n",
      "Mean group size:  & 6.4     &                     &              \\\\\n",
      "\\hline\n",
      "\\end{tabular}\n",
      "\\end{center}\n",
      "\n",
      "\\begin{center}\n",
      "\\begin{tabular}{lrrrrrr}\n",
      "\\hline\n",
      "                                  &  Coef. & Std.Err. &      z & P$> |$z$|$ & [0.025 & 0.975]  \\\\\n",
      "\\hline\n",
      "Intercept                         &  3.167 &    0.035 & 89.497 &       0.000 &  3.098 &  3.236  \\\\\n",
      "gender[T.Non-binary]              & -0.048 &    0.042 & -1.149 &       0.250 & -0.130 &  0.034  \\\\\n",
      "gender[T.Woman]                   & -0.042 &    0.014 & -3.116 &       0.002 & -0.069 & -0.016  \\\\\n",
      "race[T.Black or African American] &  0.192 &    0.032 &  6.105 &       0.000 &  0.131 &  0.254  \\\\\n",
      "race[T.Hispanic or Latino]        &  0.057 &    0.036 &  1.607 &       0.108 & -0.013 &  0.127  \\\\\n",
      "race[T.White]                     &  0.060 &    0.027 &  2.212 &       0.027 &  0.007 &  0.113  \\\\\n",
      "age[T.25-29]                      &  0.291 &    0.030 &  9.630 &       0.000 &  0.232 &  0.350  \\\\\n",
      "age[T.30-34]                      &  0.078 &    0.028 &  2.764 &       0.006 &  0.023 &  0.133  \\\\\n",
      "age[T.35-39]                      &  0.169 &    0.031 &  5.376 &       0.000 &  0.107 &  0.230  \\\\\n",
      "age[T.40-44]                      &  0.137 &    0.029 &  4.704 &       0.000 &  0.080 &  0.194  \\\\\n",
      "age[T.45-49]                      &  0.296 &    0.031 &  9.677 &       0.000 &  0.236 &  0.355  \\\\\n",
      "age[T.50-54]                      &  0.305 &    0.030 & 10.275 &       0.000 &  0.247 &  0.363  \\\\\n",
      "age[T.54-59]                      &  0.198 &    0.029 &  6.717 &       0.000 &  0.140 &  0.255  \\\\\n",
      "age[T.60-64]                      &  0.249 &    0.029 &  8.623 &       0.000 &  0.192 &  0.305  \\\\\n",
      "age[T.$>$65]                      &  0.209 &    0.028 &  7.508 &       0.000 &  0.155 &  0.264  \\\\\n",
      "education[T.College degree]       & -0.145 &    0.015 & -9.394 &       0.000 & -0.176 & -0.115  \\\\\n",
      "education[T.Graduate degree]      & -0.135 &    0.020 & -6.837 &       0.000 & -0.174 & -0.097  \\\\\n",
      "Group Var                         &  0.698 &    0.023 &        &             &        &         \\\\\n",
      "\\hline\n",
      "\\end{tabular}\n",
      "\\end{center}\n",
      "\\end{table}\n"
     ]
    }
   ],
   "source": [
    "print(res.summary().as_latex())"
   ]
  },
  {
   "cell_type": "code",
   "execution_count": 59,
   "id": "f6ff81b0-ca43-4891-ba0c-c76caee5d405",
   "metadata": {
    "tags": []
   },
   "outputs": [
    {
     "name": "stderr",
     "output_type": "stream",
     "text": [
      "/var/folders/cj/_szp19bx18ncbq3vhgh2zj_80000gr/T/ipykernel_11966/2532438192.py:2: SettingWithCopyWarning: \n",
      "A value is trying to be set on a copy of a slice from a DataFrame.\n",
      "Try using .loc[row_indexer,col_indexer] = value instead\n",
      "\n",
      "See the caveats in the documentation: https://pandas.pydata.org/pandas-docs/stable/user_guide/indexing.html#returning-a-view-versus-a-copy\n",
      "  t_df['term'] = [it.split('.')[-1][:-1] for it in t_df['term']]\n",
      "/var/folders/cj/_szp19bx18ncbq3vhgh2zj_80000gr/T/ipykernel_11966/3119033402.py:80: UserWarning: FixedFormatter should only be used together with FixedLocator\n",
      "  ax.set_yticklabels(list(df['term']), fontsize=14)\n"
     ]
    },
    {
     "data": {
      "image/png": "[encoded data removed]",
      "text/plain": [
       "<Figure size 400x200 with 1 Axes>"
      ]
     },
     "metadata": {},
     "output_type": "display_data"
    }
   ],
   "source": [
    "t_df = res_df[res_df['term'].str.contains('race')]\n",
    "t_df['term'] = [it.split('.')[-1][:-1] for it in t_df['term']]\n",
    "t_df = t_df[~t_df.term.isin(['Prefer not to disclose','Native Hawaiian or Pacific Islander'])]\n",
    "#t_df['term'] = [it.split('.')[-1][:-1] for it in t_df['term']]\n",
    "plot_reg_results(t_df, xlabel='Beta for predicting politenesss',figsize=(4,2),filename='politeness_race_reg')"
   ]
  },
  {
   "cell_type": "code",
   "execution_count": 60,
   "id": "9afcaffd-65d5-451f-a1ee-4b981fe86935",
   "metadata": {
    "tags": []
   },
   "outputs": [
    {
     "name": "stderr",
     "output_type": "stream",
     "text": [
      "/var/folders/cj/_szp19bx18ncbq3vhgh2zj_80000gr/T/ipykernel_11966/465540969.py:2: SettingWithCopyWarning: \n",
      "A value is trying to be set on a copy of a slice from a DataFrame.\n",
      "Try using .loc[row_indexer,col_indexer] = value instead\n",
      "\n",
      "See the caveats in the documentation: https://pandas.pydata.org/pandas-docs/stable/user_guide/indexing.html#returning-a-view-versus-a-copy\n",
      "  t_df['term'] = [it.split('.')[-1][:-1] for it in t_df['term']]\n",
      "/var/folders/cj/_szp19bx18ncbq3vhgh2zj_80000gr/T/ipykernel_11966/3119033402.py:80: UserWarning: FixedFormatter should only be used together with FixedLocator\n",
      "  ax.set_yticklabels(list(df['term']), fontsize=14)\n"
     ]
    },
    {
     "data": {
      "image/png": "[encoded data removed]",
      "text/plain": [
       "<Figure size 400x300 with 1 Axes>"
      ]
     },
     "metadata": {},
     "output_type": "display_data"
    }
   ],
   "source": [
    "t_df = res_df[res_df['term'].str.contains('age')]\n",
    "t_df['term'] = [it.split('.')[-1][:-1] for it in t_df['term']]\n",
    "#t_df['term'] = [it.split('.')[-1][:-1] for it in t_df['term']]\n",
    "plot_reg_results(t_df, xlabel='Beta for predicting politeness',figsize=(4,3),filename='politeness_age_reg')"
   ]
  },
  {
   "cell_type": "code",
   "execution_count": 63,
   "id": "ef0571ad-49ce-4b8c-a78a-2c64246ab5c2",
   "metadata": {
    "tags": []
   },
   "outputs": [
    {
     "name": "stderr",
     "output_type": "stream",
     "text": [
      "/var/folders/cj/_szp19bx18ncbq3vhgh2zj_80000gr/T/ipykernel_11966/2024312932.py:2: SettingWithCopyWarning: \n",
      "A value is trying to be set on a copy of a slice from a DataFrame.\n",
      "Try using .loc[row_indexer,col_indexer] = value instead\n",
      "\n",
      "See the caveats in the documentation: https://pandas.pydata.org/pandas-docs/stable/user_guide/indexing.html#returning-a-view-versus-a-copy\n",
      "  t_df['term'] = [it.split('.')[-1][:-1] for it in t_df['term']]\n",
      "/var/folders/cj/_szp19bx18ncbq3vhgh2zj_80000gr/T/ipykernel_11966/3119033402.py:80: UserWarning: FixedFormatter should only be used together with FixedLocator\n",
      "  ax.set_yticklabels(list(df['term']), fontsize=14)\n"
     ]
    },
    {
     "data": {
      "image/png": "[encoded data removed]",
      "text/plain": [
       "<Figure size 400x200 with 1 Axes>"
      ]
     },
     "metadata": {},
     "output_type": "display_data"
    }
   ],
   "source": [
    "t_df = res_df[res_df['term'].str.contains('gender')]\n",
    "t_df['term'] = [it.split('.')[-1][:-1] for it in t_df['term']]\n",
    "t_df = t_df[~t_df.term.isin(['Prefer not to disclose','Native Hawaiian or Pacific Islander'])]\n",
    "#t_df['term'] = [it.split('.')[-1][:-1] for it in t_df['term']]\n",
    "plot_reg_results(t_df, xlabel='Beta for predicting politeness',figsize=(4,2),filename='politeness_gender_reg')"
   ]
  },
  {
   "cell_type": "code",
   "execution_count": 64,
   "id": "96e572d5-9a60-41c5-ac2d-08205e5721ae",
   "metadata": {
    "tags": []
   },
   "outputs": [
    {
     "name": "stderr",
     "output_type": "stream",
     "text": [
      "/var/folders/cj/_szp19bx18ncbq3vhgh2zj_80000gr/T/ipykernel_11966/1591301755.py:2: SettingWithCopyWarning: \n",
      "A value is trying to be set on a copy of a slice from a DataFrame.\n",
      "Try using .loc[row_indexer,col_indexer] = value instead\n",
      "\n",
      "See the caveats in the documentation: https://pandas.pydata.org/pandas-docs/stable/user_guide/indexing.html#returning-a-view-versus-a-copy\n",
      "  t_df['term'] = [it.split('.')[-1][:-1] for it in t_df['term']]\n",
      "/var/folders/cj/_szp19bx18ncbq3vhgh2zj_80000gr/T/ipykernel_11966/3119033402.py:80: UserWarning: FixedFormatter should only be used together with FixedLocator\n",
      "  ax.set_yticklabels(list(df['term']), fontsize=14)\n"
     ]
    },
    {
     "data": {
      "image/png": "[encoded data removed]",
      "text/plain": [
       "<Figure size 400x200 with 1 Axes>"
      ]
     },
     "metadata": {},
     "output_type": "display_data"
    }
   ],
   "source": [
    "t_df = res_df[res_df['term'].str.contains('education')]\n",
    "t_df['term'] = [it.split('.')[-1][:-1] for it in t_df['term']]\n",
    "t_df = t_df[~t_df.term.isin(['Prefer not to disclose','Native Hawaiian or Pacific Islander'])]\n",
    "#t_df['term'] = [it.split('.')[-1][:-1] for it in t_df['term']]\n",
    "plot_reg_results(t_df, xlabel='Beta for predicting politeness',figsize=(4,2),filename='politeness_education_reg')"
   ]
  },
  {
   "cell_type": "code",
   "execution_count": 100,
   "id": "713ebbbf-1491-4f69-b59a-b070989b0afb",
   "metadata": {},
   "outputs": [
    {
     "name": "stderr",
     "output_type": "stream",
     "text": [
      "/var/folders/cj/_szp19bx18ncbq3vhgh2zj_80000gr/T/ipykernel_11966/3465108897.py:1: FutureWarning: The default value of numeric_only in DataFrameGroupBy.mean is deprecated. In a future version, numeric_only will default to False. Either specify numeric_only or select only columns which should be valid for the function.\n",
      "  agree_df.groupby('source').mean()['label']\n"
     ]
    },
    {
     "data": {
      "text/plain": [
       "source\n",
       "enron      2.827587\n",
       "revised    3.600077\n",
       "Name: label, dtype: float64"
      ]
     },
     "execution_count": 100,
     "metadata": {},
     "output_type": "execute_result"
    }
   ],
   "source": [
    "agree_df.groupby('source').mean()['label']"
   ]
  },
  {
   "cell_type": "code",
   "execution_count": null,
   "id": "38003c96-ca22-4c3f-beb2-55a72d53987a",
   "metadata": {
    "tags": []
   },
   "outputs": [],
   "source": [
    "1"
   ]
  },
  {
   "cell_type": "code",
   "execution_count": 16,
   "id": "4fe9d95c-87e0-4eb1-a1bd-f290abbff737",
   "metadata": {
    "tags": []
   },
   "outputs": [
    {
     "name": "stdout",
     "output_type": "stream",
     "text": [
      "                   Mixed Linear Model Regression Results\n",
      "============================================================================\n",
      "Model:                   MixedLM       Dependent Variable:       politeness \n",
      "No. Observations:        23700         Method:                   REML       \n",
      "No. Groups:              3718          Scale:                    0.8860     \n",
      "Min. group size:         2             Log-Likelihood:           -35558.1555\n",
      "Max. group size:         8             Converged:                Yes        \n",
      "Mean group size:         6.4                                                \n",
      "----------------------------------------------------------------------------\n",
      "                                  Coef.  Std.Err.   z    P>|z| [0.025 0.975]\n",
      "----------------------------------------------------------------------------\n",
      "Intercept                          3.167    0.035 89.497 0.000  3.098  3.236\n",
      "gender[T.Non-binary]              -0.048    0.042 -1.149 0.250 -0.130  0.034\n",
      "gender[T.Woman]                   -0.042    0.014 -3.116 0.002 -0.069 -0.016\n",
      "race[T.Black or African American]  0.192    0.032  6.105 0.000  0.131  0.254\n",
      "race[T.Hispanic or Latino]         0.057    0.036  1.607 0.108 -0.013  0.127\n",
      "race[T.White]                      0.060    0.027  2.212 0.027  0.007  0.113\n",
      "age[T.25-29]                       0.291    0.030  9.630 0.000  0.232  0.350\n",
      "age[T.30-34]                       0.078    0.028  2.764 0.006  0.023  0.133\n",
      "age[T.35-39]                       0.169    0.031  5.376 0.000  0.107  0.230\n",
      "age[T.40-44]                       0.137    0.029  4.704 0.000  0.080  0.194\n",
      "age[T.45-49]                       0.296    0.031  9.677 0.000  0.236  0.355\n",
      "age[T.50-54]                       0.305    0.030 10.275 0.000  0.247  0.363\n",
      "age[T.54-59]                       0.198    0.029  6.717 0.000  0.140  0.255\n",
      "age[T.60-64]                       0.249    0.029  8.623 0.000  0.192  0.305\n",
      "age[T.>65]                         0.209    0.028  7.508 0.000  0.155  0.264\n",
      "education[T.College degree]       -0.145    0.015 -9.394 0.000 -0.176 -0.115\n",
      "education[T.Graduate degree]      -0.135    0.020 -6.837 0.000 -0.174 -0.097\n",
      "Group Var                          0.698    0.023                           \n",
      "============================================================================\n",
      "\n"
     ]
    }
   ],
   "source": [
    "t_df = ann_df[~ann_df['education'].isin(['Other','Prefer not to disclose','Less than a high school diploma'])]\n",
    "t_df = t_df[~t_df.race.isin(['Prefer not to disclose','Native Hawaiian or Pacific Islander','American India or Alaska Native'])]\n",
    "t_df = t_df[~t_df.gender.isin(['Prefer not to disclose'])]\n",
    "t_df['education'] = ['0' if it == 'High school diploma or equivalent' else it for it in t_df['education']]\n",
    "mod = mixedlm(formula = 'politeness' + ' ~ gender + race + age + education', \n",
    "                      data=t_df, groups = t_df['instance_id'])\n",
    "res = mod.fit()\n",
    "print(res.summary())\n",
    "res_df =  results_summary_to_dataframe(res)"
   ]
  },
  {
   "cell_type": "code",
   "execution_count": 26,
   "id": "10bdce9f-2b31-4825-8c91-a45fe2205a3d",
   "metadata": {
    "tags": []
   },
   "outputs": [
    {
     "name": "stdout",
     "output_type": "stream",
     "text": [
      "78343.45684643832                             OLS Regression Results                            \n",
      "==============================================================================\n",
      "Dep. Variable:             politeness   R-squared:                       0.000\n",
      "Model:                            OLS   Adj. R-squared:                  0.000\n",
      "Method:                 Least Squares   F-statistic:                     5.575\n",
      "Date:                Mon, 17 Apr 2023   Prob (F-statistic):            0.00380\n",
      "Time:                        10:03:09   Log-Likelihood:                -39169.\n",
      "No. Observations:               23700   AIC:                         7.834e+04\n",
      "Df Residuals:                   23697   BIC:                         7.837e+04\n",
      "Df Model:                           2                                         \n",
      "Covariance Type:            nonrobust                                         \n",
      "========================================================================================\n",
      "                           coef    std err          t      P>|t|      [0.025      0.975]\n",
      "----------------------------------------------------------------------------------------\n",
      "Intercept                3.3275      0.012    278.185      0.000       3.304       3.351\n",
      "gender[T.Non-binary]    -0.1568      0.051     -3.075      0.002      -0.257      -0.057\n",
      "gender[T.Woman]         -0.0300      0.017     -1.801      0.072      -0.063       0.003\n",
      "==============================================================================\n",
      "Omnibus:                     3138.627   Durbin-Watson:                   1.777\n",
      "Prob(Omnibus):                  0.000   Jarque-Bera (JB):             1096.659\n",
      "Skew:                          -0.298   Prob(JB):                    7.30e-239\n",
      "Kurtosis:                       2.131   Cond. No.                         7.14\n",
      "==============================================================================\n",
      "\n",
      "Notes:\n",
      "[1] Standard Errors assume that the covariance matrix of the errors is correctly specified.\n"
     ]
    }
   ],
   "source": [
    "mod = ols(formula = 'politeness' + ' ~ gender', \n",
    "                      data=t_df)\n",
    "res = mod.fit()\n",
    "print(res.aic, res.summary())"
   ]
  },
  {
   "cell_type": "code",
   "execution_count": 23,
   "id": "30226ebb-9e5a-4638-859a-a89d43605848",
   "metadata": {
    "tags": []
   },
   "outputs": [
    {
     "name": "stdout",
     "output_type": "stream",
     "text": [
      "78275.15961808857                             OLS Regression Results                            \n",
      "==============================================================================\n",
      "Dep. Variable:             politeness   R-squared:                       0.004\n",
      "Model:                            OLS   Adj. R-squared:                  0.004\n",
      "Method:                 Least Squares   F-statistic:                     9.559\n",
      "Date:                Mon, 17 Apr 2023   Prob (F-statistic):           4.48e-16\n",
      "Time:                        10:01:09   Log-Likelihood:                -39127.\n",
      "No. Observations:               23700   AIC:                         7.828e+04\n",
      "Df Residuals:                   23689   BIC:                         7.836e+04\n",
      "Df Model:                          10                                         \n",
      "Covariance Type:            nonrobust                                         \n",
      "==========================================================================================================================\n",
      "                                                             coef    std err          t      P>|t|      [0.025      0.975]\n",
      "--------------------------------------------------------------------------------------------------------------------------\n",
      "Intercept                                                  3.1997      0.046     69.285      0.000       3.109       3.290\n",
      "gender[T.Non-binary]                                       0.3403      0.184      1.847      0.065      -0.021       0.701\n",
      "gender[T.Woman]                                           -0.0206      0.064     -0.319      0.750      -0.147       0.106\n",
      "race[T.Black or African American]                          0.3059      0.058      5.234      0.000       0.191       0.420\n",
      "race[T.Hispanic or Latino]                                 0.1754      0.061      2.867      0.004       0.056       0.295\n",
      "race[T.White]                                              0.1067      0.048      2.212      0.027       0.012       0.201\n",
      "gender[T.Non-binary]:race[T.Black or African American]    -0.5159      0.226     -2.281      0.023      -0.959      -0.073\n",
      "gender[T.Woman]:race[T.Black or African American]         -0.1037      0.080     -1.304      0.192      -0.260       0.052\n",
      "gender[T.Non-binary]:race[T.Hispanic or Latino]        -1.791e-16   7.86e-17     -2.277      0.023   -3.33e-16    -2.5e-17\n",
      "gender[T.Woman]:race[T.Hispanic or Latino]                -0.2906      0.089     -3.264      0.001      -0.465      -0.116\n",
      "gender[T.Non-binary]:race[T.White]                        -0.5447      0.193     -2.819      0.005      -0.923      -0.166\n",
      "gender[T.Woman]:race[T.White]                              0.0252      0.067      0.374      0.709      -0.107       0.157\n",
      "==============================================================================\n",
      "Omnibus:                     3060.352   Durbin-Watson:                   1.783\n",
      "Prob(Omnibus):                  0.000   Jarque-Bera (JB):             1080.576\n",
      "Skew:                          -0.295   Prob(JB):                    2.27e-235\n",
      "Kurtosis:                       2.136   Cond. No.                     3.86e+18\n",
      "==============================================================================\n",
      "\n",
      "Notes:\n",
      "[1] Standard Errors assume that the covariance matrix of the errors is correctly specified.\n",
      "[2] The smallest eigenvalue is 3.36e-33. This might indicate that there are\n",
      "strong multicollinearity problems or that the design matrix is singular.\n"
     ]
    }
   ],
   "source": [
    "mod = ols(formula = 'politeness' + ' ~ gender*race', \n",
    "                      data=t_df)\n",
    "res = mod.fit()\n",
    "print(res.aic, res.summary())"
   ]
  },
  {
   "cell_type": "code",
   "execution_count": 27,
   "id": "6544dc1c-7edb-47e9-b0a0-9c399ab6182c",
   "metadata": {
    "tags": []
   },
   "outputs": [
    {
     "data": {
      "text/plain": [
       "(735, 989, 1240)"
      ]
     },
     "execution_count": 27,
     "metadata": {},
     "output_type": "execute_result"
    }
   ],
   "source": [
    "len(t_df[(t_df.race=='Hispanic or Latino')&(t_df.gender=='Woman')]), len(t_df[(t_df.race=='Hispanic or Latino')&(t_df.gender=='Man')]),len(t_df[(t_df.race=='Black or African American')&(t_df.gender=='Man')])"
   ]
  },
  {
   "cell_type": "code",
   "execution_count": 24,
   "id": "bfd61742-d293-49bd-8b0b-e03ce1262ec4",
   "metadata": {
    "tags": []
   },
   "outputs": [
    {
     "name": "stdout",
     "output_type": "stream",
     "text": [
      "78179.46875097162                             OLS Regression Results                            \n",
      "==============================================================================\n",
      "Dep. Variable:             politeness   R-squared:                       0.009\n",
      "Model:                            OLS   Adj. R-squared:                  0.008\n",
      "Method:                 Least Squares   F-statistic:                     8.877\n",
      "Date:                Mon, 17 Apr 2023   Prob (F-statistic):           2.63e-33\n",
      "Time:                        10:02:29   Log-Likelihood:                -39064.\n",
      "No. Observations:               23700   AIC:                         7.818e+04\n",
      "Df Residuals:                   23674   BIC:                         7.839e+04\n",
      "Df Model:                          25                                         \n",
      "Covariance Type:            nonrobust                                         \n",
      "=====================================================================================================\n",
      "                                        coef    std err          t      P>|t|      [0.025      0.975]\n",
      "-----------------------------------------------------------------------------------------------------\n",
      "Intercept                             3.2375      0.035     92.650      0.000       3.169       3.306\n",
      "gender[T.Non-binary]                 -0.1175      0.087     -1.351      0.177      -0.288       0.053\n",
      "gender[T.Woman]                      -0.1210      0.050     -2.396      0.017      -0.220      -0.022\n",
      "age[T.25-29]                          0.3595      0.062      5.763      0.000       0.237       0.482\n",
      "age[T.30-34]                          0.0646      0.050      1.295      0.195      -0.033       0.162\n",
      "age[T.35-39]                          0.1026      0.050      2.054      0.040       0.005       0.200\n",
      "age[T.40-44]                          0.0709      0.052      1.354      0.176      -0.032       0.174\n",
      "age[T.45-49]                          0.2478      0.054      4.608      0.000       0.142       0.353\n",
      "age[T.50-54]                          0.1436      0.052      2.781      0.005       0.042       0.245\n",
      "age[T.54-59]                          0.0293      0.053      0.557      0.577      -0.074       0.132\n",
      "age[T.60-64]                          0.1345      0.052      2.570      0.010       0.032       0.237\n",
      "age[T.>65]                           -0.0330      0.047     -0.703      0.482      -0.125       0.059\n",
      "gender[T.Non-binary]:age[T.25-29]    -0.0795      0.205     -0.388      0.698      -0.481       0.322\n",
      "gender[T.Woman]:age[T.25-29]         -0.1590      0.080     -1.994      0.046      -0.315      -0.003\n",
      "gender[T.Non-binary]:age[T.30-34]    -0.1546      0.129     -1.195      0.232      -0.408       0.099\n",
      "gender[T.Woman]:age[T.30-34]         -0.0668      0.072     -0.927      0.354      -0.208       0.075\n",
      "gender[T.Non-binary]:age[T.35-39] -8.408e-17    3.4e-17     -2.475      0.013   -1.51e-16   -1.75e-17\n",
      "gender[T.Woman]:age[T.35-39]          0.0071      0.080      0.088      0.930      -0.151       0.165\n",
      "gender[T.Non-binary]:age[T.40-44]     0.0691      0.202      0.342      0.732      -0.327       0.465\n",
      "gender[T.Woman]:age[T.40-44]         -0.0299      0.073     -0.409      0.683      -0.173       0.113\n",
      "gender[T.Non-binary]:age[T.45-49]    -0.2678      0.202     -1.324      0.186      -0.664       0.129\n",
      "gender[T.Woman]:age[T.45-49]         -0.0853      0.076     -1.125      0.260      -0.234       0.063\n",
      "gender[T.Non-binary]:age[T.50-54] -5.845e-17   2.16e-17     -2.701      0.007   -1.01e-16    -1.6e-17\n",
      "gender[T.Woman]:age[T.50-54]          0.2385      0.074      3.228      0.001       0.094       0.383\n",
      "gender[T.Non-binary]:age[T.54-59]     0.5907      0.202      2.926      0.003       0.195       0.986\n",
      "gender[T.Woman]:age[T.54-59]          0.2271      0.074      3.066      0.002       0.082       0.372\n",
      "gender[T.Non-binary]:age[T.60-64]          0          0        nan        nan           0           0\n",
      "gender[T.Woman]:age[T.60-64]          0.1063      0.072      1.478      0.139      -0.035       0.247\n",
      "gender[T.Non-binary]:age[T.>65]            0          0        nan        nan           0           0\n",
      "gender[T.Woman]:age[T.>65]            0.3626      0.067      5.416      0.000       0.231       0.494\n",
      "==============================================================================\n",
      "Omnibus:                     2872.046   Durbin-Watson:                   1.792\n",
      "Prob(Omnibus):                  0.000   Jarque-Bera (JB):             1069.646\n",
      "Skew:                          -0.302   Prob(JB):                    5.36e-233\n",
      "Kurtosis:                       2.152   Cond. No.                     1.20e+16\n",
      "==============================================================================\n",
      "\n",
      "Notes:\n",
      "[1] Standard Errors assume that the covariance matrix of the errors is correctly specified.\n",
      "[2] The smallest eigenvalue is 2.37e-28. This might indicate that there are\n",
      "strong multicollinearity problems or that the design matrix is singular.\n"
     ]
    }
   ],
   "source": [
    "mod = ols(formula = 'politeness' + ' ~ gender*age', \n",
    "                      data=t_df)\n",
    "res = mod.fit()\n",
    "print(res.aic, res.summary())"
   ]
  },
  {
   "cell_type": "code",
   "execution_count": null,
   "id": "bcb1ed50-cbdc-4359-b55a-f9db65c8ce76",
   "metadata": {},
   "outputs": [],
   "source": []
  }
 ],
 "metadata": {
  "kernelspec": {
   "display_name": "Python 3 (ipykernel)",
   "language": "python",
   "name": "python3"
  },
  "language_info": {
   "codemirror_mode": {
    "name": "ipython",
    "version": 3
   },
   "file_extension": ".py",
   "mimetype": "text/x-python",
   "name": "python",
   "nbconvert_exporter": "python",
   "pygments_lexer": "ipython3",
   "version": "3.11.2"
  }
 },
 "nbformat": 4,
 "nbformat_minor": 5
}
