{
 "cells": [
  {
   "cell_type": "code",
   "execution_count": 2,
   "id": "5a4660f0-ae55-4a5c-996a-0c3cce1d8d75",
   "metadata": {
    "tags": []
   },
   "outputs": [],
   "source": [
    "import pandas as pd\n",
    "from collections import defaultdict\n",
    "import json\n",
    "import krippendorff\n",
    "import numpy as np\n",
    "from scipy import stats\n",
    "import seaborn as sns\n",
    "import string\n",
    "import re\n",
    "import collections\n",
    "import statsmodels.api as sm\n",
    "from statsmodels.formula.api import ols, mixedlm\n",
    "import random\n",
    "import matplotlib.pyplot as plt\n",
    "import matplotlib.colors\n",
    "#import plotly.express as px\n",
    "#import geopandas\n",
    "import matplotlib.pyplot as plt\n",
    "import matplotlib.colors\n",
    "import matplotlib.cm as cm\n",
    "from statsmodels.stats.outliers_influence import variance_inflation_factor"
   ]
  },
  {
   "cell_type": "code",
   "execution_count": 3,
   "id": "e47bab95-be88-41cf-b27b-961988f3bcb5",
   "metadata": {
    "tags": []
   },
   "outputs": [],
   "source": [
    "def results_summary_to_dataframe(results):\n",
    "    '''take the result of an statsmodel results table and transforms it into a dataframe'''\n",
    "    pvals = results.pvalues\n",
    "    coeff = results.params\n",
    "    se = results.bse\n",
    "    conf_lower = results.conf_int()[0]\n",
    "    conf_higher = results.conf_int()[1]\n",
    "\n",
    "    results_df = pd.DataFrame({\"p value\":pvals,\n",
    "                               \"coeff\":coeff,\n",
    "                               \"SE\":se,\n",
    "                               \"conf_lower\":conf_lower,\n",
    "                               \"conf_higher\":conf_higher\n",
    "                                })\n",
    "\n",
    "    #Reordering...\n",
    "    results_df = results_df.reset_index()\n",
    "    results_df['term'] = results_df['index']\n",
    "    return results_df\n",
    "\n",
    "def add_star(p):\n",
    "    sig = ' '\n",
    "    if p < 0.05:\n",
    "        sig = '*'\n",
    "    else:\n",
    "        sig = ' '\n",
    "    if p < 0.01:\n",
    "        sig = '**'\n",
    "    if p < 0.001:\n",
    "        sig = '***'\n",
    "   \n",
    "    return sig\n",
    "\n",
    "        \n",
    "def plot_reg_results(df, nrows = 1, ncols = 1, figsize=(4, 2), xlabel='xlabel', labels = None, title='', filename=None):\n",
    "    #df = df.sort_values('coeff')\n",
    "    xs = df['coeff']\n",
    "    norm = matplotlib.colors.Normalize(vmin=min(xs)*2, vmax=max(xs)*2)\n",
    "    mapper = cm.ScalarMappable(norm=norm, cmap='viridis')\n",
    "    colors = np.array([(mapper.to_rgba(v)) for v in xs])\n",
    "    en_len = int(len(df))\n",
    "    \n",
    "    fig, axes = plt.subplots(nrows=nrows, ncols=ncols, figsize=figsize)\n",
    "    axes=[axes] if nrows + ncols <= 2 else axes\n",
    "    plt.tight_layout()\n",
    "    plt.subplots_adjust(wspace=0.6)\n",
    "    #plt.title('Uncertainty in Fields')\n",
    "    st = fig.suptitle(\"\", fontsize=14)\n",
    "    #sigg = fig.suptitle(\"Signif. codes:  0 ‘***’ 0.001 ‘**’ 0.01 ‘*’ 0.05 ‘.’ 0.1 ‘ ’ 1\", fontsize=14)\n",
    "    for i in range(len(axes)):\n",
    "        ax = axes[i]\n",
    "        ax.set_ylim(-0.7, len(df['term'][:en_len])-0.2)\n",
    "        ax.axvline(x=0.00,color='black',linewidth=1.7,linestyle='-')\n",
    "        ax.xaxis.grid(True)\n",
    "        ax.yaxis.label.set_color('white')\n",
    "        #ax.set_xticks([-0.5, 0.0, 0.5, 1,0])\n",
    "        #ax.set_xlabel(r\"%s ($\\beta$ coef.)\"%xlabel, fontsize=14)\n",
    "        ax.set_xlabel(xlabel,fontsize=14)\n",
    "        #ax.set_xticks([-0.04, -0.02, 0, 0.02, 0.04])\n",
    "        #ax.set_title(r\"%s\"%(labels[i] if labels else dvs[i]), fontsize=14)\n",
    "        s = en_len*i\n",
    "        en = en_len*(i+1)\n",
    "        for x, y, e, p, color in zip(df['coeff'][s:en], df['term'][s:en], df['SE'][s:en],df['p value'][s:en], colors[s:en]):\n",
    "            #plt.plot(x, y, 'o', color=color)\n",
    "            ax.errorbar(x=[x], y=[y], xerr=[e], color=color,fmt='o')\n",
    "            sig = ' '\n",
    "            if p < 0.05:\n",
    "                sig = '*'\n",
    "            if p < 0.01:\n",
    "                sig = '**'\n",
    "            if p < 0.001:\n",
    "                sig = '***'\n",
    "            ax.annotate(sig, # this is the text\n",
    "                     (x+0.00001,y), # this is the point to label\n",
    "                     textcoords=\"offset points\", # how to position the text\n",
    "                     xytext=(0,-0.5), # distance from text to points (x,y)\n",
    "                     ha='center') # horizontal alignment can be left, right or center\n",
    "\n",
    "        #ax.set_xticklabels([-0.04, -0.02, 0, 0.02, 0.04], fontsize=14)\n",
    "        ax.set_yticklabels(list(df['term']), fontsize=14)\n",
    "\n",
    "    #fig.text(0.5, 0.04, 'common X', ha='center')\n",
    "    st.set_y(-0.02)\n",
    "    #sigg.set_y(-0.12)\n",
    "    fig.text(0.5, -0.17, s=\"%s\"%title,ha='center',fontsize=14)\n",
    "    fig.text(0.5, -0.18, s=\"Signif. codes:  0 ‘***’ 0.001 ‘**’ 0.01 ‘*’ 0.05\",ha='center',fontsize=9)\n",
    "    if filename:\n",
    "        plt.savefig('../figures/%s.pdf'%filename, bbox_inches='tight')\n",
    "        \n",
    "def get_exp_df(ann_df):\n",
    "    exp_dict = {}\n",
    "    df = ann_df[ann_df.instance_id.str.contains('experience.html')]\n",
    "    for i, row in df.iterrows():\n",
    "        exp_dict[row['user']] = {question2key[k] if k in question2key else k:v.split(':::')[-1] if type(v)==str else v for k,v in dict(row).items()}\n",
    "    exp_df = pd.DataFrame.from_records(list(exp_dict.values()))\n",
    "    return exp_df"
   ]
  },
  {
   "cell_type": "code",
   "execution_count": 8,
   "id": "9706627c-be2e-4db1-aab4-58c793030944",
   "metadata": {
    "tags": []
   },
   "outputs": [
    {
     "ename": "NameError",
     "evalue": "name 'data_df' is not defined",
     "output_type": "error",
     "traceback": [
      "\u001b[0;31m---------------------------------------------------------------------------\u001b[0m",
      "\u001b[0;31mNameError\u001b[0m                                 Traceback (most recent call last)",
      "Cell \u001b[0;32mIn[8], line 1\u001b[0m\n\u001b[0;32m----> 1\u001b[0m exp_df \u001b[38;5;241m=\u001b[39m get_exp_df(\u001b[43mdata_df\u001b[49m)\n\u001b[1;32m      2\u001b[0m ax \u001b[38;5;241m=\u001b[39m sns\u001b[38;5;241m.\u001b[39mcountplot(y\u001b[38;5;241m=\u001b[39mexp_df[\u001b[38;5;124m'\u001b[39m\u001b[38;5;124mHow satisfied do you feel about your experience participating our study?\u001b[39m\u001b[38;5;124m'\u001b[39m],order\u001b[38;5;241m=\u001b[39m[\u001b[38;5;124m\"\u001b[39m\u001b[38;5;124mVery satisfied\u001b[39m\u001b[38;5;124m\"\u001b[39m, \u001b[38;5;124m\"\u001b[39m\u001b[38;5;124mSatisfied\u001b[39m\u001b[38;5;124m\"\u001b[39m, \u001b[38;5;124m\"\u001b[39m\u001b[38;5;124mNot satisfied\u001b[39m\u001b[38;5;124m\"\u001b[39m])\n\u001b[1;32m      3\u001b[0m \u001b[38;5;66;03m#ax.set_yticklabels([\"Very satisfied\", \"Satisfied\", \"Not satisfied\"])\u001b[39;00m\n",
      "\u001b[0;31mNameError\u001b[0m: name 'data_df' is not defined"
     ]
    }
   ],
   "source": [
    "exp_df = get_exp_df(data_df)\n",
    "ax = sns.countplot(y=exp_df['How satisfied do you feel about your experience participating our study?'],order=[\"Very satisfied\", \"Satisfied\", \"Not satisfied\"])\n",
    "#ax.set_yticklabels([\"Very satisfied\", \"Satisfied\", \"Not satisfied\"])\n",
    "ax.set_ylabel('How satisfied do you feel about \\n your experience participating our study?')"
   ]
  },
  {
   "cell_type": "code",
   "execution_count": 4,
   "id": "07aadbfc-1491-427f-bac2-0f06a0c2799a",
   "metadata": {
    "tags": []
   },
   "outputs": [],
   "source": [
    "raw_df = pd.read_csv('data_files/ruddit_1500.csv')\n",
    "data_dict = {str(row['id']):dict(row) for i,row in raw_df.iterrows()}"
   ]
  },
  {
   "cell_type": "code",
   "execution_count": 5,
   "id": "147555dd-dcd1-4775-baab-02e7bb591f23",
   "metadata": {
    "tags": []
   },
   "outputs": [],
   "source": [
    "def convert_data(df):\n",
    "    return_dict = defaultdict(list)\n",
    "    cols = list(df.columns)\n",
    "    for i, row in df.iterrows():\n",
    "        item = {}\n",
    "        for key_label in cols:\n",
    "            key = key_label.split(\":::\")\n",
    "            if len(key) == 1:\n",
    "                item[key[0]] = row[key_label]\n",
    "            elif key[0] == 'span_annotation':\n",
    "                item[key[0]] = eval(row[key_label])\n",
    "            elif key[1]=='bad_text':\n",
    "                item['bad_text'] = row[key_label]\n",
    "            elif len(key) == 2:\n",
    "                #print(str(row[key_label]))\n",
    "                if key[0] not in item:\n",
    "                    item[key[0]] = None\n",
    "                if str(row[key_label]) != 'nan':\n",
    "                    item[key[0]] = row[key_label]\n",
    "                #if key[0] not in item:\n",
    "                #    item[key[0]] = None\n",
    "                #if row[key_label] == True:\n",
    "                #    if key[1][:5] == 'scale':\n",
    "                #        item[key[0]] = int(key[1].split('_')[1])\n",
    "                #    else:\n",
    "                #        item[key[0]] = key[1]\n",
    "            else:\n",
    "                print('error key: ', key)\n",
    "        for key in item:\n",
    "            return_dict[key].append(item[key])\n",
    "    return pd.DataFrame(return_dict)\n",
    "\n",
    "question2key = {\n",
    "    \"What is your gender?\": \"gender\",\n",
    "    \"What is your age?\": \"age\",\n",
    "    \"How do you describe your race or ethnicity (You may select more than one option)\": \"race\",\n",
    "    \"What is your occupation?\": \"occupation\",\n",
    "    \"What is your education level?\": \"education\",\n",
    "    \"Consider you read the above comment on Reddit, how offensive do you think it is?\": \"offensiveness\",\n",
    "}\n",
    "\n",
    "def get_user_dict(ann_df):\n",
    "    user_keys = set(ann_df['user'])\n",
    "    user_dict = {}\n",
    "    df = ann_df[ann_df.instance_id.str.contains('demographic_questions.html')]\n",
    "    for i, row in df.iterrows():\n",
    "        user_dict[row['user']] = {question2key[k] if k in question2key else k:v.split(':::')[-1] if type(v)==str else v for k,v in dict(row).items()}\n",
    "    user_df = pd.DataFrame.from_records(list(user_dict.values()))\n",
    "    return user_dict, user_df\n",
    "\n",
    "def attach_user_info(ann_df, user_dict, keys):\n",
    "    for key in keys:\n",
    "        ann_df[key] = [user_dict[user][key] if (user in user_dict and key in user_dict[user]) else None for user in ann_df['user']]\n",
    "    return ann_df\n",
    "\n",
    "\n",
    "def get_mean(s):\n",
    "    '''\n",
    "        Return the mean of a list of labels\n",
    "        Input: a list of labels (can contain 'bad_text' or 'nan')\n",
    "        Output: a float or None\n",
    "    '''\n",
    "    s = [int(it) for it in s if it!='bad_text' and str(it) != 'nan']\n",
    "    return sum(s)/len(s) if len(s) > 0 else None\n",
    "\n",
    "def split_half_corr(df, key='pure_scores', seeds = [0,1,2,3,4]):\n",
    "    '''\n",
    "        randomly split the labels into two groups and calculate the Pearson'r r between the two groups\n",
    "        Input:\n",
    "            df: the input annotation dataframe\n",
    "            key: the column key to be analyzed (default to pure_scores)\n",
    "        Return:\n",
    "            a list of the split half correlation scores \n",
    "    '''\n",
    "    p = []\n",
    "    for seed in seeds:\n",
    "        random.seed(seed)\n",
    "        scores = [random.sample(it,len(it)) for it in df[key] if len(it) >= 4]\n",
    "        sp1 = [get_mean(it[:int(len(it)/2)]) for it in scores]\n",
    "        sp2 = [get_mean(it[int(len(it)/2):]) for it in scores]\n",
    "        p.append(stats.pearsonr(sp1,sp2)[0])\n",
    "        #print(p)\n",
    "    return sum(p)/len(p), np.std(p)"
   ]
  },
  {
   "cell_type": "code",
   "execution_count": 6,
   "id": "e7e361c7-35ba-4ead-b85e-4a2586272357",
   "metadata": {
    "tags": []
   },
   "outputs": [
    {
     "name": "stdout",
     "output_type": "stream",
     "text": [
      "{'Enjoy', \"That was fun. I'm obviously not easily offended and I wish most people weren't\", 'none', 'Really nice study, especially enjoyed this as an avid Reddit user :)', 'No comment ', 'Hopefully this is training an AI t detect offensive statements', 'everything was clear and easy to understand.', 'I enjoyed this study because it was easy to navigate and everything worked well. I hope to complete more like this in the future. Thank you.', 'I really enjoyed being able to use the arrow keys to advance for every page.  Made my life easier.', 'crashed half way thru', 'Very slow at the beginning.', 'People are somewhat too sensitive to general comments nowadays. ', '\"balto didn\\'t do shit and can go fuck himself\" is the funniest thing I\\'ve read all week. I feel like they might be right and will research this further.', 'Thank you!', 'Enjoyed participating, Thanks!', 'Super easy study.', \"I really enjoyed the format of this survey—it was both easy to use and made changing my answers easy as well—and I'd enjoy it if more researchers adopted the same format.\", 'have a good evening', 'I spend way too much reading comments on reddit so why not participate in a study and earn a lil cash while doing so! Thanks for the unique opportunity here. ', 'interesting statements to consider, thanks', 'None at this time.', 'Good one.', 'Some comments were ranked low because I was uncertain of the context- often that can determine if the conversation is offensive or not.', 'Very different kind of study! Thank you!', 'not much offends me', 'no', \"i'm on reddit a lot - those were super mild and unoffensive!\", 'This was interesting.  I kept thinking how everything in life is is relative, including speech.  What is offensive to one person might not affect others in the same way.  I think comments are likely to be considered offensive when people take them personally and internalize them.', 'Not a great hourly rate unless you fly through', 'jad technical problems', 'fun study', 'Server crashes often causing restarts of survey. ', 'This site can’t be reached54.241.232.189 refused to connect.', 'Where are the comments from social media?', 'http://54.241.232.189:8002/?PROLIFIC_PID=5bee108b6f2d54000198e0c6  , thanks for figuring out how to continue', 'There were times when the next page had trouble loading. But, I was able to fill out every question. Thanks for the opportunity!', 'I Love reddit', nan, \"That was interesting. I'm a Reddit reader and not easily offended, so I wondered what type of questions I'd be rating.\", 'The reason I chose that this study is worse than others in comparison is because of technical issues experienced. It felt like a server issue on your end. Other than that, everything was fine.', 'None.', 'Thank you for the opportunity. ', 'No comments', 'I was surprised that I found the overwhelming majority of the posts to be non offensive.  I spend a good amount of time on Reddit every day and I found this study to be very interesting.  I actually think I remembered seeing a few of these comments before.  Thanks for the opportunity to participate in your research.', \"Your server seemed to be having loading issues during this study. At one point, I goy an error message, opened another tab and checked my internet speed which wasn't having problems.\"}\n"
     ]
    }
   ],
   "source": [
    "data_df = pd.concat([\n",
    "    pd.read_csv('annotation_output/full/annotated_instances.tsv',sep='\\t')\n",
    "])\n",
    "print(set(data_df['Please feel free to leave any comments about our study (optional):::text_box']))"
   ]
  },
  {
   "cell_type": "code",
   "execution_count": 7,
   "id": "95439352-45be-4092-aab3-df7b7d891923",
   "metadata": {
    "tags": []
   },
   "outputs": [],
   "source": [
    "data_df = convert_data(data_df)\n",
    "user_dict, user_df = get_user_dict(data_df)"
   ]
  },
  {
   "cell_type": "code",
   "execution_count": 8,
   "id": "eeeb21bb-0bfd-4640-8cd4-c4e2b44b7594",
   "metadata": {
    "tags": []
   },
   "outputs": [],
   "source": [
    "ann_df = data_df[(~data_df.instance_id.str.contains('html'))&(data_df.user.isin(user_dict))]\n",
    "ann_df = ann_df.rename(columns=question2key)\n",
    "ann_df = attach_user_info(ann_df, user_dict, keys=['gender','race','age','education','occupation'])\n",
    "#ann_df['offensiveness_gold'] = [data_dict[int(it)]['offensiveness_score'] for it in ann_df['instance_id']]"
   ]
  },
  {
   "cell_type": "code",
   "execution_count": 14,
   "id": "40b69e6f-64ff-4d26-adb9-91f368dfe9a5",
   "metadata": {
    "tags": []
   },
   "outputs": [],
   "source": [
    "race_map = {'hispanic':'Hispanic or Latino','Hispanic':'Hispanic or Latino', 'latino': 'Hispanic or Latino',\n",
    "            'American India or Alaska Native':'Native American','Native American ( Indians are from India )':'Native American'}\n",
    "ann_df['race'] = [race_map[it] if it in race_map else it for it in ann_df['race']]\n"
   ]
  },
  {
   "cell_type": "code",
   "execution_count": null,
   "id": "7568d368-a96e-430a-a551-c4813c2cf4a5",
   "metadata": {},
   "outputs": [],
   "source": [
    "user2order = "
   ]
  },
  {
   "cell_type": "code",
   "execution_count": 14,
   "id": "ee24b873-aa73-4d56-8828-f98eb171a4b0",
   "metadata": {
    "tags": []
   },
   "outputs": [
    {
     "name": "stdout",
     "output_type": "stream",
     "text": [
      "243 out of 262 annotators are selected\n"
     ]
    }
   ],
   "source": [
    "user_keys = list(set(ann_df['user']))\n",
    "with open('annotation_output/full/competence') as r:\n",
    "        competence = r.readlines()[0].strip().split('\\t')\n",
    "valid_users = []\n",
    "invalid_users = []\n",
    "for u, c in zip(user_keys, competence):\n",
    "    if float(c) > 0.1:\n",
    "        valid_users.append(u)\n",
    "        #print(u, c)\n",
    "    else:\n",
    "        invalid_users.append(u)\n",
    "        #print(user_dict[u])\n",
    "print(\"%d out of %d annotators are selected\"%(len(valid_users), len(user_keys)))"
   ]
  },
  {
   "cell_type": "code",
   "execution_count": 10,
   "id": "f8f52da2-e105-4020-8948-b4c640e951c0",
   "metadata": {},
   "outputs": [],
   "source": [
    "agree_df =  ann_df.rename(columns=question2key).pivot(index='instance_id', columns='user', values='offensiveness').sort_values('instance_id').reset_index()#[:-2]\n",
    "agree_df['offensiveness_gold'] = [data_dict[it]['offensiveness_score'] for it in agree_df['instance_id']]\n",
    "agree_df['text'] = [data_dict[it]['text'] for it in agree_df['instance_id']]\n",
    "user_keys = list(set(ann_df['user']))\n",
    "p_dict = defaultdict(list)\n",
    "for i, row in agree_df.iterrows():\n",
    "    #print('Male',[row[it] for it in user_keys if str(row[it]) != 'nan' and user_dict[it]['gender']=='Male'])\n",
    "    #print('Female',[row[it] for it in user_keys if str(row[it]) != 'nan' and user_dict[it]['gender']=='Female'])\n",
    "    #male_s = \n",
    "    p_dict['scores'].append([it for it in row[user_keys] if str(it) != 'nan'])\n",
    "    p_dict['users'].append([it for it in user_keys if str(row[it]) != 'nan'])\n",
    "    #p_dict['man_score'].append(get_mean([row[it] for it in user_keys if str(row[it]) != 'nan' and user_dict[it]['gender']=='Man']))\n",
    "    #p_dict['woman_score'].append(get_mean([row[it] for it in user_keys if str(row[it]) != 'nan' and user_dict[it]['gender']=='Woman']))\n",
    "    ##p_dict['white_score'].append(get_mean([row[it] for it in user_keys if str(row[it]) != 'nan' and user_dict[it]['race']=='White']))\n",
    "    #p_dict['black_score'].append(get_mean([row[it] for it in user_keys if str(row[it]) != 'nan' and user_dict[it]['race']=='Black or African American']))\n",
    "    #p_dict['asian_score'].append(get_mean([row[it] for it in user_keys if str(row[it]) != 'nan' and user_dict[it]['race']=='Asian']))\n",
    "    #p_dict['nonwhite_score'].append(get_mean([row[it] for it in user_keys if str(row[it]) != 'nan' and user_dict[it]['race']!='White']))\n",
    "\n",
    "for key in p_dict:\n",
    "    agree_df[key] = p_dict[key]\n",
    "#agree_df['scores'] = p_dict['scores']\n",
    "#for key in ['gender']:\n",
    "#    agree_df[key] = [[user_dict[it][key] for it in s] for s in p_dict['users']]\n",
    "agree_df['scores_num'] = [len(s) for s in p_dict['scores']]\n",
    "agree_df['scores_std'] = [np.std(s) for s in p_dict['scores']]\n",
    "agree_df['offensiveness_label'] = [sum(s)/len(s) for s in p_dict['scores']]"
   ]
  },
  {
   "cell_type": "code",
   "execution_count": 26,
   "id": "e5ae6866-cd86-4d07-8cfc-42153b8ec13f",
   "metadata": {
    "tags": []
   },
   "outputs": [
    {
     "data": {
      "text/plain": [
       "0.286488592272091"
      ]
     },
     "execution_count": 26,
     "metadata": {},
     "output_type": "execute_result"
    }
   ],
   "source": [
    "krippendorff.alpha(np.array(agree_df[list(set(ann_df['user']))]).transpose(), level_of_measurement='ordinal')"
   ]
  },
  {
   "cell_type": "code",
   "execution_count": 23,
   "id": "b54841ff-a6f5-4d71-bed8-30d750861738",
   "metadata": {
    "tags": []
   },
   "outputs": [],
   "source": [
    "agree_df.to_csv('annotation_output/full/agg.csv',index=False)"
   ]
  },
  {
   "cell_type": "code",
   "execution_count": 27,
   "id": "32f9fde6-b950-4393-bbcc-afcc50544fe8",
   "metadata": {
    "tags": []
   },
   "outputs": [],
   "source": [
    "agree_df.to_csv('annotation_output/full/offensiveness.csv',index=False)"
   ]
  },
  {
   "cell_type": "code",
   "execution_count": 16,
   "id": "e0428529-9a22-4f42-86f9-518c2addc7c8",
   "metadata": {
    "tags": []
   },
   "outputs": [
    {
     "data": {
      "text/plain": [
       "0.6761074449496517"
      ]
     },
     "execution_count": 16,
     "metadata": {},
     "output_type": "execute_result"
    }
   ],
   "source": [
    "agree_df['offensiveness_label'].corr(agree_df['offensiveness_gold'])"
   ]
  },
  {
   "cell_type": "code",
   "execution_count": 17,
   "id": "b501caa2-0fc2-4c6d-994a-6368caf7b3bb",
   "metadata": {
    "tags": []
   },
   "outputs": [
    {
     "data": {
      "text/plain": [
       "(0.5774081602751431, 0.6055306767043275)"
      ]
     },
     "execution_count": 17,
     "metadata": {},
     "output_type": "execute_result"
    }
   ],
   "source": [
    "agree_df['man_score'].corr(agree_df['offensiveness_gold']), agree_df['woman_score'].corr(agree_df['offensiveness_gold'])"
   ]
  },
  {
   "cell_type": "code",
   "execution_count": 17,
   "id": "cbcb8177-c05e-487c-89ac-8b36ef50a190",
   "metadata": {
    "tags": []
   },
   "outputs": [
    {
     "data": {
      "text/plain": [
       "(0.6612328188418152, 0.41060687990127676, 0.41032667329925077)"
      ]
     },
     "execution_count": 17,
     "metadata": {},
     "output_type": "execute_result"
    }
   ],
   "source": [
    "agree_df['white_score'].corr(agree_df['offensiveness_gold']), agree_df['asian_score'].corr(agree_df['offensiveness_gold']),agree_df['black_score'].corr(agree_df['offensiveness_gold'])"
   ]
  },
  {
   "cell_type": "code",
   "execution_count": 19,
   "id": "a4f017fe-fa0f-49b4-9c0b-2a2dd7203b17",
   "metadata": {
    "tags": []
   },
   "outputs": [
    {
     "data": {
      "text/plain": [
       "<seaborn.axisgrid.FacetGrid at 0x147a4bf90>"
      ]
     },
     "execution_count": 19,
     "metadata": {},
     "output_type": "execute_result"
    },
    {
     "data": {
      "image/png": "[encoded data removed]",
      "text/plain": [
       "<Figure size 614x500 with 1 Axes>"
      ]
     },
     "metadata": {},
     "output_type": "display_data"
    }
   ],
   "source": [
    "t_df = pd.DataFrame()\n",
    "keys=['white','nonwhite']\n",
    "t_df['annotations'] = pd.concat([agree_df[key+'_score'] for key in keys])\n",
    "t_df['type'] = ['white']*len(agree_df) + ['nonwhite']*len(agree_df)\n",
    "t_df['ruddit_score'] = list(agree_df['offensiveness_gold'])*2\n",
    "sns.lmplot(x='ruddit_score',y='annotations',hue='type',  data=t_df, scatter=False)"
   ]
  },
  {
   "cell_type": "code",
   "execution_count": 30,
   "id": "06ddebdf-0a4e-4f40-8923-a8eaf86885e6",
   "metadata": {
    "tags": []
   },
   "outputs": [
    {
     "data": {
      "image/png": "[encoded data removed]",
      "text/plain": [
       "<Figure size 540x350 with 1 Axes>"
      ]
     },
     "metadata": {},
     "output_type": "display_data"
    }
   ],
   "source": [
    "t_df = defaultdict(list)\n",
    "keys=['white','nonwhite','black','asian']\n",
    "for key in keys:\n",
    "    t_df['race'].append(key)\n",
    "    t_df['correlation'].append(agree_df[key+'_score'].corr(agree_df['offensiveness_gold']))\n",
    "t_df=pd.DataFrame(t_df)\n",
    "fig, axes = plt.subplots(figsize=(5.4, 3.5))\n",
    "plt.tight_layout()\n",
    "b = sns.barplot(x='race',y='correlation',data=t_df)\n",
    "#b.set_xlabel(\"Offensiveness\",fontsize=14)\n",
    "b.set_ylabel(\"Correlation with Ruddit score\",fontsize=14)\n",
    "b.tick_params(labelsize=14)\n",
    "fig.savefig('../figures/offensiveness_corr_by_race.pdf', bbox_inches='tight')\n"
   ]
  },
  {
   "cell_type": "code",
   "execution_count": 1,
   "id": "a3794593-be4e-4fa3-bcef-41c4f8e245c4",
   "metadata": {
    "tags": []
   },
   "outputs": [
    {
     "data": {
      "text/plain": [
       "1"
      ]
     },
     "execution_count": 1,
     "metadata": {},
     "output_type": "execute_result"
    }
   ],
   "source": [
    "1"
   ]
  },
  {
   "cell_type": "code",
   "execution_count": 36,
   "id": "a19a4e20-0526-442f-ab94-daf8278918fd",
   "metadata": {
    "tags": []
   },
   "outputs": [
    {
     "data": {
      "image/png": "[encoded data removed]",
      "text/plain": [
       "<Figure size 540x350 with 1 Axes>"
      ]
     },
     "metadata": {},
     "output_type": "display_data"
    }
   ],
   "source": [
    "t_df = defaultdict(list)\n",
    "keys=['white','black','asian']\n",
    "for key in keys:\n",
    "    t_df['race'].append(key)\n",
    "    t_df['correlation'].append(agree_df[key+'_score'].corr(agree_df['offensiveness_gold']))\n",
    "t_df=pd.DataFrame(t_df)\n",
    "fig, axes = plt.subplots(figsize=(5.4, 3.5))\n",
    "plt.tight_layout()\n",
    "b = sns.barplot(x='race',y='correlation',data=t_df)\n",
    "b.set_xlabel(\"\",fontsize=11)\n",
    "b.set_ylabel(\"Correlation with Ruddit score\",fontsize=14)\n",
    "b.set_xticklabels(['White', 'Black', 'Asian'], fontsize=14)\n",
    "b.tick_params(labelsize=14)\n",
    "fig.savefig('../figures/offensiveness_corr_by_race.pdf', bbox_inches='tight')"
   ]
  },
  {
   "cell_type": "code",
   "execution_count": 16,
   "id": "681657bc-5bab-453f-9038-cc377988bc74",
   "metadata": {
    "tags": []
   },
   "outputs": [
    {
     "data": {
      "text/plain": [
       "(0.6369344669525636, 0.009740320907514768)"
      ]
     },
     "execution_count": 16,
     "metadata": {},
     "output_type": "execute_result"
    }
   ],
   "source": [
    "split_half_corr(agree_df, 'scores')"
   ]
  },
  {
   "cell_type": "code",
   "execution_count": 17,
   "id": "a276bca2-ec24-496c-b315-0debad502c74",
   "metadata": {},
   "outputs": [],
   "source": [
    "agree_df[user_keys].to_csv('annotation_output/full/mace.csv', header=None, index=False)"
   ]
  },
  {
   "cell_type": "code",
   "execution_count": 18,
   "id": "5663f150-a586-413c-b8ad-b1704a47c1cf",
   "metadata": {
    "tags": []
   },
   "outputs": [
    {
     "name": "stdout",
     "output_type": "stream",
     "text": [
      "243 out of 262 annotators are selected\n"
     ]
    }
   ],
   "source": []
  },
  {
   "cell_type": "code",
   "execution_count": 114,
   "id": "7de665be-94ac-4ea4-8e30-fb76104c4541",
   "metadata": {
    "tags": []
   },
   "outputs": [
    {
     "data": {
      "text/plain": [
       "(13036, 1500, 262)"
      ]
     },
     "execution_count": 114,
     "metadata": {},
     "output_type": "execute_result"
    }
   ],
   "source": [
    "len(ann_df),len(set(ann_df['displayed_text'])), len(set(ann_df['user']))"
   ]
  },
  {
   "cell_type": "code",
   "execution_count": 124,
   "id": "4859259b-e1c6-44b4-b83c-93a56992c216",
   "metadata": {
    "tags": []
   },
   "outputs": [
    {
     "name": "stdout",
     "output_type": "stream",
     "text": [
      "                   Mixed Linear Model Regression Results\n",
      "============================================================================\n",
      "Model:                   MixedLM      Dependent Variable:      offensiveness\n",
      "No. Observations:        12252        Method:                  REML         \n",
      "No. Groups:              1500         Scale:                   1.0240       \n",
      "Min. group size:         4            Log-Likelihood:          -18682.1760  \n",
      "Max. group size:         10           Converged:               Yes          \n",
      "Mean group size:         8.2                                                \n",
      "----------------------------------------------------------------------------\n",
      "                                  Coef.  Std.Err.   z    P>|z| [0.025 0.975]\n",
      "----------------------------------------------------------------------------\n",
      "Intercept                          1.998    0.048 41.259 0.000  1.903  2.093\n",
      "gender[T.Non-binary]              -0.235    0.060 -3.890 0.000 -0.353 -0.116\n",
      "gender[T.Woman]                   -0.022    0.020 -1.065 0.287 -0.061  0.018\n",
      "race[T.Black or African American]  0.184    0.045  4.124 0.000  0.097  0.272\n",
      "race[T.Hispanic or Latino]        -0.405    0.078 -5.174 0.000 -0.558 -0.252\n",
      "race[T.White]                     -0.104    0.038 -2.758 0.006 -0.178 -0.030\n",
      "age[T.25-29]                      -0.185    0.043 -4.268 0.000 -0.270 -0.100\n",
      "age[T.30-34]                      -0.165    0.041 -4.071 0.000 -0.244 -0.086\n",
      "age[T.35-39]                      -0.142    0.040 -3.525 0.000 -0.221 -0.063\n",
      "age[T.40-44]                      -0.037    0.043 -0.860 0.390 -0.120  0.047\n",
      "age[T.45-49]                      -0.087    0.044 -1.979 0.048 -0.173 -0.001\n",
      "age[T.50-54]                      -0.141    0.046 -3.077 0.002 -0.231 -0.051\n",
      "age[T.54-59]                       0.001    0.039  0.025 0.980 -0.075  0.077\n",
      "age[T.60-64]                       0.309    0.050  6.163 0.000  0.211  0.407\n",
      "age[T.>65]                         0.117    0.042  2.755 0.006  0.034  0.200\n",
      "education[T.College degree]       -0.015    0.023 -0.660 0.509 -0.060  0.030\n",
      "education[T.Graduate degree]       0.052    0.029  1.801 0.072 -0.005  0.109\n",
      "Group Var                          0.435    0.022                           \n",
      "============================================================================\n",
      "\n"
     ]
    }
   ],
   "source": [
    "t_df = ann_df[~ann_df['education'].isin(['Other','Prefer not to disclose','Less than a high school diploma'])]\n",
    "t_df = t_df[~t_df.race.isin(['Prefer not to disclose','Native Hawaiian or Pacific Islander','American India or Alaska Native'])]\n",
    "t_df['race'] = ['Hispanic or Latino' if it.lower() in ['hispanic','latino'] else it for it in t_df['race']]\n",
    "t_df['education'] = ['0' if it == 'High school diploma or equivalent' else it for it in t_df['education']]\n",
    "mod = mixedlm(formula = 'offensiveness' + ' ~ gender + race + age + education', \n",
    "                      data=t_df, groups = t_df['instance_id'])\n",
    "res = mod.fit()\n",
    "print(res.summary())\n",
    "res_df =  results_summary_to_dataframe(res)"
   ]
  },
  {
   "cell_type": "code",
   "execution_count": 125,
   "id": "d074e180-bbb6-455b-90a9-7157c01d851b",
   "metadata": {
    "tags": []
   },
   "outputs": [
    {
     "name": "stdout",
     "output_type": "stream",
     "text": [
      "\\begin{table}\n",
      "\\caption{Mixed Linear Model Regression Results}\n",
      "\\label{}\n",
      "\\begin{center}\n",
      "\\begin{tabular}{llll}\n",
      "\\hline\n",
      "Model:            & MixedLM & Dependent Variable: & offensiveness  \\\\\n",
      "No. Observations: & 12252   & Method:             & REML           \\\\\n",
      "No. Groups:       & 1500    & Scale:              & 1.0240         \\\\\n",
      "Min. group size:  & 4       & Log-Likelihood:     & -18682.1760    \\\\\n",
      "Max. group size:  & 10      & Converged:          & Yes            \\\\\n",
      "Mean group size:  & 8.2     &                     &                \\\\\n",
      "\\hline\n",
      "\\end{tabular}\n",
      "\\end{center}\n",
      "\n",
      "\\begin{center}\n",
      "\\begin{tabular}{lrrrrrr}\n",
      "\\hline\n",
      "                                  &  Coef. & Std.Err. &      z & P$> |$z$|$ & [0.025 & 0.975]  \\\\\n",
      "\\hline\n",
      "Intercept                         &  1.998 &    0.048 & 41.259 &       0.000 &  1.903 &  2.093  \\\\\n",
      "gender[T.Non-binary]              & -0.235 &    0.060 & -3.890 &       0.000 & -0.353 & -0.116  \\\\\n",
      "gender[T.Woman]                   & -0.022 &    0.020 & -1.065 &       0.287 & -0.061 &  0.018  \\\\\n",
      "race[T.Black or African American] &  0.184 &    0.045 &  4.124 &       0.000 &  0.097 &  0.272  \\\\\n",
      "race[T.Hispanic or Latino]        & -0.405 &    0.078 & -5.174 &       0.000 & -0.558 & -0.252  \\\\\n",
      "race[T.White]                     & -0.104 &    0.038 & -2.758 &       0.006 & -0.178 & -0.030  \\\\\n",
      "age[T.25-29]                      & -0.185 &    0.043 & -4.268 &       0.000 & -0.270 & -0.100  \\\\\n",
      "age[T.30-34]                      & -0.165 &    0.041 & -4.071 &       0.000 & -0.244 & -0.086  \\\\\n",
      "age[T.35-39]                      & -0.142 &    0.040 & -3.525 &       0.000 & -0.221 & -0.063  \\\\\n",
      "age[T.40-44]                      & -0.037 &    0.043 & -0.860 &       0.390 & -0.120 &  0.047  \\\\\n",
      "age[T.45-49]                      & -0.087 &    0.044 & -1.979 &       0.048 & -0.173 & -0.001  \\\\\n",
      "age[T.50-54]                      & -0.141 &    0.046 & -3.077 &       0.002 & -0.231 & -0.051  \\\\\n",
      "age[T.54-59]                      &  0.001 &    0.039 &  0.025 &       0.980 & -0.075 &  0.077  \\\\\n",
      "age[T.60-64]                      &  0.309 &    0.050 &  6.163 &       0.000 &  0.211 &  0.407  \\\\\n",
      "age[T.$>$65]                      &  0.117 &    0.042 &  2.755 &       0.006 &  0.034 &  0.200  \\\\\n",
      "education[T.College degree]       & -0.015 &    0.023 & -0.660 &       0.509 & -0.060 &  0.030  \\\\\n",
      "education[T.Graduate degree]      &  0.052 &    0.029 &  1.801 &       0.072 & -0.005 &  0.109  \\\\\n",
      "Group Var                         &  0.435 &    0.022 &        &             &        &         \\\\\n",
      "\\hline\n",
      "\\end{tabular}\n",
      "\\end{center}\n",
      "\\end{table}\n"
     ]
    }
   ],
   "source": [
    "print(res.summary().as_latex())"
   ]
  },
  {
   "cell_type": "code",
   "execution_count": 113,
   "id": "8765d975-f21c-4a20-8e99-dda5e7c4e39b",
   "metadata": {
    "tags": []
   },
   "outputs": [
    {
     "name": "stderr",
     "output_type": "stream",
     "text": [
      "/var/folders/cj/_szp19bx18ncbq3vhgh2zj_80000gr/T/ipykernel_3024/1780422064.py:2: SettingWithCopyWarning: \n",
      "A value is trying to be set on a copy of a slice from a DataFrame.\n",
      "Try using .loc[row_indexer,col_indexer] = value instead\n",
      "\n",
      "See the caveats in the documentation: https://pandas.pydata.org/pandas-docs/stable/user_guide/indexing.html#returning-a-view-versus-a-copy\n",
      "  t_df['education'] = ['0' if it == 'High school diploma or equivalent' else it for it in t_df['education']]\n"
     ]
    },
    {
     "name": "stdout",
     "output_type": "stream",
     "text": [
      "                 Mixed Linear Model Regression Results\n",
      "=======================================================================\n",
      "Model:                MixedLM     Dependent Variable:     offensiveness\n",
      "No. Observations:     12501       Method:                 REML         \n",
      "No. Groups:           1500        Scale:                  1.0164       \n",
      "Min. group size:      4           Log-Likelihood:         -19007.2552  \n",
      "Max. group size:      10          Converged:              Yes          \n",
      "Mean group size:      8.3                                              \n",
      "-----------------------------------------------------------------------\n",
      "                             Coef.  Std.Err.   z    P>|z| [0.025 0.975]\n",
      "-----------------------------------------------------------------------\n",
      "Intercept                     2.001    0.051 39.234 0.000  1.901  2.101\n",
      "gender[T.Non-binary]         -0.241    0.060 -4.005 0.000 -0.358 -0.123\n",
      "gender[T.Woman]              -0.023    0.020 -1.145 0.252 -0.062  0.016\n",
      "race_simplified[T.Black]      0.186    0.047  3.917 0.000  0.093  0.279\n",
      "race_simplified[T.Mixed]     -0.154    0.070 -2.205 0.027 -0.290 -0.017\n",
      "race_simplified[T.Other]     -0.488    0.078 -6.260 0.000 -0.641 -0.335\n",
      "race_simplified[T.White]     -0.105    0.041 -2.566 0.010 -0.185 -0.025\n",
      "age[T.25-29]                 -0.174    0.042 -4.102 0.000 -0.257 -0.091\n",
      "age[T.30-34]                 -0.174    0.040 -4.398 0.000 -0.251 -0.096\n",
      "age[T.35-39]                 -0.143    0.040 -3.582 0.000 -0.221 -0.065\n",
      "age[T.40-44]                 -0.041    0.042 -0.969 0.332 -0.124  0.042\n",
      "age[T.45-49]                 -0.099    0.043 -2.313 0.021 -0.184 -0.015\n",
      "age[T.50-54]                 -0.156    0.045 -3.476 0.001 -0.244 -0.068\n",
      "age[T.54-59]                 -0.004    0.038 -0.117 0.907 -0.079  0.070\n",
      "age[T.60-64]                  0.303    0.050  6.086 0.000  0.205  0.400\n",
      "age[T.>65]                    0.106    0.042  2.532 0.011  0.024  0.188\n",
      "education[T.College degree]  -0.014    0.022 -0.643 0.520 -0.058  0.029\n",
      "education[T.Graduate degree]  0.059    0.029  2.035 0.042  0.002  0.115\n",
      "Group Var                     0.433    0.021                           \n",
      "=======================================================================\n",
      "\n"
     ]
    }
   ],
   "source": [
    "t_df = ann_df[~ann_df['education'].isin(['Other','Prefer not to disclose','Less than a high school diploma'])]\n",
    "t_df = t_df[~t_df.race.isin(['Prefer not to disclose','Native Hawaiian or Pacific Islander','American India or Alaska Native'])]\n",
    "\n",
    "t_df['education'] = ['0' if it == 'High school diploma or equivalent' else it for it in t_df['education']]\n",
    "mod = mixedlm(formula = 'offensiveness' + ' ~ gender + race_simplified + age + education', \n",
    "                      data=t_df, groups = t_df['instance_id'])\n",
    "res = mod.fit()\n",
    "print(res.summary())\n",
    "res_df =  results_summary_to_dataframe(res)"
   ]
  },
  {
   "cell_type": "code",
   "execution_count": 98,
   "id": "11a1f487-6470-4947-a709-b46274578095",
   "metadata": {
    "tags": []
   },
   "outputs": [
    {
     "name": "stderr",
     "output_type": "stream",
     "text": [
      "/var/folders/cj/_szp19bx18ncbq3vhgh2zj_80000gr/T/ipykernel_3024/4149245423.py:2: SettingWithCopyWarning: \n",
      "A value is trying to be set on a copy of a slice from a DataFrame.\n",
      "Try using .loc[row_indexer,col_indexer] = value instead\n",
      "\n",
      "See the caveats in the documentation: https://pandas.pydata.org/pandas-docs/stable/user_guide/indexing.html#returning-a-view-versus-a-copy\n",
      "  t_df['term'] = [it.split('.')[-1][:-1] for it in t_df['term']]\n",
      "/var/folders/cj/_szp19bx18ncbq3vhgh2zj_80000gr/T/ipykernel_3024/4118182366.py:80: UserWarning: FixedFormatter should only be used together with FixedLocator\n",
      "  ax.set_yticklabels(list(df['term']), fontsize=14)\n"
     ]
    },
    {
     "data": {
      "image/png": "[encoded data removed]",
      "text/plain": [
       "<Figure size 400x200 with 1 Axes>"
      ]
     },
     "metadata": {},
     "output_type": "display_data"
    }
   ],
   "source": [
    "t_df = res_df[res_df['term'].str.contains('race')]\n",
    "t_df['term'] = [it.split('.')[-1][:-1] for it in t_df['term']]\n",
    "#t_df['term'] = [it.split('.')[-1][:-1] for it in t_df['term']]\n",
    "plot_reg_results(t_df, xlabel='Beta for predicting offensiveness',figsize=(4,2),filename='offensiveness_race_reg')"
   ]
  },
  {
   "cell_type": "code",
   "execution_count": 107,
   "id": "489930cf-dbf2-4bf8-b0e0-5d324ff9dcf7",
   "metadata": {
    "tags": []
   },
   "outputs": [
    {
     "name": "stderr",
     "output_type": "stream",
     "text": [
      "/var/folders/cj/_szp19bx18ncbq3vhgh2zj_80000gr/T/ipykernel_3024/2740505393.py:2: SettingWithCopyWarning: \n",
      "A value is trying to be set on a copy of a slice from a DataFrame.\n",
      "Try using .loc[row_indexer,col_indexer] = value instead\n",
      "\n",
      "See the caveats in the documentation: https://pandas.pydata.org/pandas-docs/stable/user_guide/indexing.html#returning-a-view-versus-a-copy\n",
      "  t_df['term'] = [it.split('.')[-1][:-1] for it in t_df['term']]\n",
      "/var/folders/cj/_szp19bx18ncbq3vhgh2zj_80000gr/T/ipykernel_3024/3119033402.py:80: UserWarning: FixedFormatter should only be used together with FixedLocator\n",
      "  ax.set_yticklabels(list(df['term']), fontsize=14)\n"
     ]
    },
    {
     "data": {
      "image/png": "[encoded data removed]",
      "text/plain": [
       "<Figure size 400x300 with 1 Axes>"
      ]
     },
     "metadata": {},
     "output_type": "display_data"
    }
   ],
   "source": [
    "t_df = res_df[res_df['term'].str.contains('age')]\n",
    "t_df['term'] = [it.split('.')[-1][:-1] for it in t_df['term']]\n",
    "#t_df['term'] = [it.split('.')[-1][:-1] for it in t_df['term']]\n",
    "plot_reg_results(t_df, xlabel='Beta for predicting offensiveness',figsize=(4,3),filename='offensiveness_age_reg')"
   ]
  },
  {
   "cell_type": "code",
   "execution_count": 102,
   "id": "3e9f6efb-f30d-4ec3-ad81-aa3bd693ca57",
   "metadata": {
    "tags": []
   },
   "outputs": [
    {
     "name": "stderr",
     "output_type": "stream",
     "text": [
      "/var/folders/cj/_szp19bx18ncbq3vhgh2zj_80000gr/T/ipykernel_3024/2128770694.py:2: SettingWithCopyWarning: \n",
      "A value is trying to be set on a copy of a slice from a DataFrame.\n",
      "Try using .loc[row_indexer,col_indexer] = value instead\n",
      "\n",
      "See the caveats in the documentation: https://pandas.pydata.org/pandas-docs/stable/user_guide/indexing.html#returning-a-view-versus-a-copy\n",
      "  t_df['term'] = [it.split('.')[-1][:-1] for it in t_df['term']]\n",
      "/var/folders/cj/_szp19bx18ncbq3vhgh2zj_80000gr/T/ipykernel_3024/4118182366.py:80: UserWarning: FixedFormatter should only be used together with FixedLocator\n",
      "  ax.set_yticklabels(list(df['term']), fontsize=14)\n"
     ]
    },
    {
     "data": {
      "image/png": "[encoded data removed]",
      "text/plain": [
       "<Figure size 400x200 with 1 Axes>"
      ]
     },
     "metadata": {},
     "output_type": "display_data"
    }
   ],
   "source": [
    "t_df = res_df[res_df['term'].str.contains('gender')]\n",
    "t_df['term'] = [it.split('.')[-1][:-1] for it in t_df['term']]\n",
    "#t_df['term'] = [it.split('.')[-1][:-1] for it in t_df['term']]\n",
    "plot_reg_results(t_df, xlabel='Beta for predicting offensiveness',figsize=(4,2),filename='offensiveness_gender_reg')"
   ]
  },
  {
   "cell_type": "code",
   "execution_count": 103,
   "id": "6685e047-ce71-4226-9967-318c66aaca62",
   "metadata": {
    "tags": []
   },
   "outputs": [
    {
     "name": "stderr",
     "output_type": "stream",
     "text": [
      "/var/folders/cj/_szp19bx18ncbq3vhgh2zj_80000gr/T/ipykernel_3024/400177567.py:2: SettingWithCopyWarning: \n",
      "A value is trying to be set on a copy of a slice from a DataFrame.\n",
      "Try using .loc[row_indexer,col_indexer] = value instead\n",
      "\n",
      "See the caveats in the documentation: https://pandas.pydata.org/pandas-docs/stable/user_guide/indexing.html#returning-a-view-versus-a-copy\n",
      "  t_df['term'] = [it.split('.')[-1][:-1] for it in t_df['term']]\n",
      "/var/folders/cj/_szp19bx18ncbq3vhgh2zj_80000gr/T/ipykernel_3024/4118182366.py:80: UserWarning: FixedFormatter should only be used together with FixedLocator\n",
      "  ax.set_yticklabels(list(df['term']), fontsize=14)\n"
     ]
    },
    {
     "data": {
      "image/png": "[encoded data removed]",
      "text/plain": [
       "<Figure size 400x200 with 1 Axes>"
      ]
     },
     "metadata": {},
     "output_type": "display_data"
    }
   ],
   "source": [
    "t_df = res_df[res_df['term'].str.contains('education')]\n",
    "t_df['term'] = [it.split('.')[-1][:-1] for it in t_df['term']]\n",
    "#t_df['term'] = [it.split('.')[-1][:-1] for it in t_df['term']]\n",
    "plot_reg_results(t_df, xlabel='Beta for predicting offensiveness',figsize=(4,2),filename='offensiveness_education_reg')"
   ]
  },
  {
   "cell_type": "code",
   "execution_count": 111,
   "id": "f7f19661-6590-4584-9e22-9d9e22b0858b",
   "metadata": {
    "tags": []
   },
   "outputs": [],
   "source": [
    "ann_df['race_simplified'] = [demo_dict[it]['Ethnicity simplified'] for it in ann_df['user']]\n",
    "ann_df['sex'] = [demo_dict[it]['Sex'] for it in ann_df['user']]\n",
    "ann_df['age_int'] = [demo_dict[it]['Age'] for it in ann_df['user']]\n",
    "ann_df['age_cat'] = [str(int(demo_dict[it]['Age']/10)*10) for it in ann_df['user']]\n",
    "\n"
   ]
  },
  {
   "cell_type": "code",
   "execution_count": 78,
   "id": "c3f76abb-a1ed-4e31-bada-a58991886dc2",
   "metadata": {
    "tags": []
   },
   "outputs": [
    {
     "ename": "PatsyError",
     "evalue": "Error evaluating factor: NameError: name 'sex' is not defined\n    offensiveness ~ sex + race + age\n                    ^^^",
     "output_type": "error",
     "traceback": [
      "\u001b[0;31m---------------------------------------------------------------------------\u001b[0m",
      "\u001b[0;31mNameError\u001b[0m                                 Traceback (most recent call last)",
      "File \u001b[0;32m/opt/homebrew/lib/python3.11/site-packages/patsy/compat.py:36\u001b[0m, in \u001b[0;36mcall_and_wrap_exc\u001b[0;34m(msg, origin, f, *args, **kwargs)\u001b[0m\n\u001b[1;32m     35\u001b[0m \u001b[38;5;28;01mtry\u001b[39;00m:\n\u001b[0;32m---> 36\u001b[0m     \u001b[38;5;28;01mreturn\u001b[39;00m \u001b[43mf\u001b[49m\u001b[43m(\u001b[49m\u001b[38;5;241;43m*\u001b[39;49m\u001b[43margs\u001b[49m\u001b[43m,\u001b[49m\u001b[43m \u001b[49m\u001b[38;5;241;43m*\u001b[39;49m\u001b[38;5;241;43m*\u001b[39;49m\u001b[43mkwargs\u001b[49m\u001b[43m)\u001b[49m\n\u001b[1;32m     37\u001b[0m \u001b[38;5;28;01mexcept\u001b[39;00m \u001b[38;5;167;01mException\u001b[39;00m \u001b[38;5;28;01mas\u001b[39;00m e:\n",
      "File \u001b[0;32m/opt/homebrew/lib/python3.11/site-packages/patsy/eval.py:169\u001b[0m, in \u001b[0;36mEvalEnvironment.eval\u001b[0;34m(self, expr, source_name, inner_namespace)\u001b[0m\n\u001b[1;32m    168\u001b[0m code \u001b[38;5;241m=\u001b[39m \u001b[38;5;28mcompile\u001b[39m(expr, source_name, \u001b[38;5;124m\"\u001b[39m\u001b[38;5;124meval\u001b[39m\u001b[38;5;124m\"\u001b[39m, \u001b[38;5;28mself\u001b[39m\u001b[38;5;241m.\u001b[39mflags, \u001b[38;5;28;01mFalse\u001b[39;00m)\n\u001b[0;32m--> 169\u001b[0m \u001b[38;5;28;01mreturn\u001b[39;00m \u001b[38;5;28;43meval\u001b[39;49m\u001b[43m(\u001b[49m\u001b[43mcode\u001b[49m\u001b[43m,\u001b[49m\u001b[43m \u001b[49m\u001b[43m{\u001b[49m\u001b[43m}\u001b[49m\u001b[43m,\u001b[49m\u001b[43m \u001b[49m\u001b[43mVarLookupDict\u001b[49m\u001b[43m(\u001b[49m\u001b[43m[\u001b[49m\u001b[43minner_namespace\u001b[49m\u001b[43m]\u001b[49m\n\u001b[1;32m    170\u001b[0m \u001b[43m                                    \u001b[49m\u001b[38;5;241;43m+\u001b[39;49m\u001b[43m \u001b[49m\u001b[38;5;28;43mself\u001b[39;49m\u001b[38;5;241;43m.\u001b[39;49m\u001b[43m_namespaces\u001b[49m\u001b[43m)\u001b[49m\u001b[43m)\u001b[49m\n",
      "File \u001b[0;32m<string>:1\u001b[0m\n",
      "\u001b[0;31mNameError\u001b[0m: name 'sex' is not defined",
      "\nThe above exception was the direct cause of the following exception:\n",
      "\u001b[0;31mPatsyError\u001b[0m                                Traceback (most recent call last)",
      "Cell \u001b[0;32mIn[78], line 1\u001b[0m\n\u001b[0;32m----> 1\u001b[0m mod \u001b[38;5;241m=\u001b[39m \u001b[43mmixedlm\u001b[49m\u001b[43m(\u001b[49m\u001b[43mformula\u001b[49m\u001b[43m \u001b[49m\u001b[38;5;241;43m=\u001b[39;49m\u001b[43m \u001b[49m\u001b[38;5;124;43m'\u001b[39;49m\u001b[38;5;124;43moffensiveness\u001b[39;49m\u001b[38;5;124;43m'\u001b[39;49m\u001b[43m \u001b[49m\u001b[38;5;241;43m+\u001b[39;49m\u001b[43m \u001b[49m\u001b[38;5;124;43m'\u001b[39;49m\u001b[38;5;124;43m ~ sex + race + age\u001b[39;49m\u001b[38;5;124;43m'\u001b[39;49m\u001b[43m,\u001b[49m\u001b[43m \u001b[49m\n\u001b[1;32m      2\u001b[0m \u001b[43m                      \u001b[49m\u001b[43mdata\u001b[49m\u001b[38;5;241;43m=\u001b[39;49m\u001b[43mann_df\u001b[49m\u001b[43m[\u001b[49m\u001b[43mann_df\u001b[49m\u001b[43m[\u001b[49m\u001b[38;5;124;43m'\u001b[39;49m\u001b[38;5;124;43muser\u001b[39;49m\u001b[38;5;124;43m'\u001b[39;49m\u001b[43m]\u001b[49m\u001b[38;5;241;43m.\u001b[39;49m\u001b[43misin\u001b[49m\u001b[43m(\u001b[49m\u001b[43mvalid_users\u001b[49m\u001b[43m)\u001b[49m\u001b[43m]\u001b[49m\u001b[43m,\u001b[49m\u001b[43m \u001b[49m\u001b[43mgroups\u001b[49m\u001b[43m \u001b[49m\u001b[38;5;241;43m=\u001b[39;49m\u001b[43m \u001b[49m\u001b[43mann_df\u001b[49m\u001b[43m[\u001b[49m\u001b[43mann_df\u001b[49m\u001b[43m[\u001b[49m\u001b[38;5;124;43m'\u001b[39;49m\u001b[38;5;124;43muser\u001b[39;49m\u001b[38;5;124;43m'\u001b[39;49m\u001b[43m]\u001b[49m\u001b[38;5;241;43m.\u001b[39;49m\u001b[43misin\u001b[49m\u001b[43m(\u001b[49m\u001b[43mvalid_users\u001b[49m\u001b[43m)\u001b[49m\u001b[43m]\u001b[49m\u001b[43m[\u001b[49m\u001b[38;5;124;43m'\u001b[39;49m\u001b[38;5;124;43minstance_id\u001b[39;49m\u001b[38;5;124;43m'\u001b[39;49m\u001b[43m]\u001b[49m\u001b[43m)\u001b[49m\n\u001b[1;32m      3\u001b[0m res \u001b[38;5;241m=\u001b[39m mod\u001b[38;5;241m.\u001b[39mfit()\n\u001b[1;32m      4\u001b[0m \u001b[38;5;28mprint\u001b[39m(res\u001b[38;5;241m.\u001b[39msummary())\n",
      "File \u001b[0;32m/opt/homebrew/lib/python3.11/site-packages/statsmodels/regression/mixed_linear_model.py:1046\u001b[0m, in \u001b[0;36mMixedLM.from_formula\u001b[0;34m(cls, formula, data, re_formula, vc_formula, subset, use_sparse, missing, *args, **kwargs)\u001b[0m\n\u001b[1;32m   1044\u001b[0m kwargs[\u001b[38;5;124m\"\u001b[39m\u001b[38;5;124mexog_vc\u001b[39m\u001b[38;5;124m\"\u001b[39m] \u001b[38;5;241m=\u001b[39m exog_vc\n\u001b[1;32m   1045\u001b[0m kwargs[\u001b[38;5;124m\"\u001b[39m\u001b[38;5;124mgroups\u001b[39m\u001b[38;5;124m\"\u001b[39m] \u001b[38;5;241m=\u001b[39m groups\n\u001b[0;32m-> 1046\u001b[0m mod \u001b[38;5;241m=\u001b[39m \u001b[38;5;28;43msuper\u001b[39;49m\u001b[43m(\u001b[49m\u001b[43mMixedLM\u001b[49m\u001b[43m,\u001b[49m\u001b[43m \u001b[49m\u001b[38;5;28;43mcls\u001b[39;49m\u001b[43m)\u001b[49m\u001b[38;5;241;43m.\u001b[39;49m\u001b[43mfrom_formula\u001b[49m\u001b[43m(\u001b[49m\n\u001b[1;32m   1047\u001b[0m \u001b[43m    \u001b[49m\u001b[43mformula\u001b[49m\u001b[43m,\u001b[49m\u001b[43m \u001b[49m\u001b[43mdata\u001b[49m\u001b[43m,\u001b[49m\u001b[43m \u001b[49m\u001b[38;5;241;43m*\u001b[39;49m\u001b[43margs\u001b[49m\u001b[43m,\u001b[49m\u001b[43m \u001b[49m\u001b[38;5;241;43m*\u001b[39;49m\u001b[38;5;241;43m*\u001b[39;49m\u001b[43mkwargs\u001b[49m\u001b[43m)\u001b[49m\n\u001b[1;32m   1049\u001b[0m \u001b[38;5;66;03m# expand re names to account for pairs of RE\u001b[39;00m\n\u001b[1;32m   1050\u001b[0m (param_names,\n\u001b[1;32m   1051\u001b[0m  exog_re_names,\n\u001b[1;32m   1052\u001b[0m  exog_re_names_full) \u001b[38;5;241m=\u001b[39m mod\u001b[38;5;241m.\u001b[39m_make_param_names(exog_re_names)\n",
      "File \u001b[0;32m/opt/homebrew/lib/python3.11/site-packages/statsmodels/base/model.py:200\u001b[0m, in \u001b[0;36mModel.from_formula\u001b[0;34m(cls, formula, data, subset, drop_cols, *args, **kwargs)\u001b[0m\n\u001b[1;32m    197\u001b[0m \u001b[38;5;28;01mif\u001b[39;00m missing \u001b[38;5;241m==\u001b[39m \u001b[38;5;124m'\u001b[39m\u001b[38;5;124mnone\u001b[39m\u001b[38;5;124m'\u001b[39m:  \u001b[38;5;66;03m# with patsy it's drop or raise. let's raise.\u001b[39;00m\n\u001b[1;32m    198\u001b[0m     missing \u001b[38;5;241m=\u001b[39m \u001b[38;5;124m'\u001b[39m\u001b[38;5;124mraise\u001b[39m\u001b[38;5;124m'\u001b[39m\n\u001b[0;32m--> 200\u001b[0m tmp \u001b[38;5;241m=\u001b[39m \u001b[43mhandle_formula_data\u001b[49m\u001b[43m(\u001b[49m\u001b[43mdata\u001b[49m\u001b[43m,\u001b[49m\u001b[43m \u001b[49m\u001b[38;5;28;43;01mNone\u001b[39;49;00m\u001b[43m,\u001b[49m\u001b[43m \u001b[49m\u001b[43mformula\u001b[49m\u001b[43m,\u001b[49m\u001b[43m \u001b[49m\u001b[43mdepth\u001b[49m\u001b[38;5;241;43m=\u001b[39;49m\u001b[43meval_env\u001b[49m\u001b[43m,\u001b[49m\n\u001b[1;32m    201\u001b[0m \u001b[43m                          \u001b[49m\u001b[43mmissing\u001b[49m\u001b[38;5;241;43m=\u001b[39;49m\u001b[43mmissing\u001b[49m\u001b[43m)\u001b[49m\n\u001b[1;32m    202\u001b[0m ((endog, exog), missing_idx, design_info) \u001b[38;5;241m=\u001b[39m tmp\n\u001b[1;32m    203\u001b[0m max_endog \u001b[38;5;241m=\u001b[39m \u001b[38;5;28mcls\u001b[39m\u001b[38;5;241m.\u001b[39m_formula_max_endog\n",
      "File \u001b[0;32m/opt/homebrew/lib/python3.11/site-packages/statsmodels/formula/formulatools.py:63\u001b[0m, in \u001b[0;36mhandle_formula_data\u001b[0;34m(Y, X, formula, depth, missing)\u001b[0m\n\u001b[1;32m     61\u001b[0m \u001b[38;5;28;01melse\u001b[39;00m:\n\u001b[1;32m     62\u001b[0m     \u001b[38;5;28;01mif\u001b[39;00m data_util\u001b[38;5;241m.\u001b[39m_is_using_pandas(Y, \u001b[38;5;28;01mNone\u001b[39;00m):\n\u001b[0;32m---> 63\u001b[0m         result \u001b[38;5;241m=\u001b[39m \u001b[43mdmatrices\u001b[49m\u001b[43m(\u001b[49m\u001b[43mformula\u001b[49m\u001b[43m,\u001b[49m\u001b[43m \u001b[49m\u001b[43mY\u001b[49m\u001b[43m,\u001b[49m\u001b[43m \u001b[49m\u001b[43mdepth\u001b[49m\u001b[43m,\u001b[49m\u001b[43m \u001b[49m\u001b[43mreturn_type\u001b[49m\u001b[38;5;241;43m=\u001b[39;49m\u001b[38;5;124;43m'\u001b[39;49m\u001b[38;5;124;43mdataframe\u001b[39;49m\u001b[38;5;124;43m'\u001b[39;49m\u001b[43m,\u001b[49m\n\u001b[1;32m     64\u001b[0m \u001b[43m                           \u001b[49m\u001b[43mNA_action\u001b[49m\u001b[38;5;241;43m=\u001b[39;49m\u001b[43mna_action\u001b[49m\u001b[43m)\u001b[49m\n\u001b[1;32m     65\u001b[0m     \u001b[38;5;28;01melse\u001b[39;00m:\n\u001b[1;32m     66\u001b[0m         result \u001b[38;5;241m=\u001b[39m dmatrices(formula, Y, depth, return_type\u001b[38;5;241m=\u001b[39m\u001b[38;5;124m'\u001b[39m\u001b[38;5;124mdataframe\u001b[39m\u001b[38;5;124m'\u001b[39m,\n\u001b[1;32m     67\u001b[0m                            NA_action\u001b[38;5;241m=\u001b[39mna_action)\n",
      "File \u001b[0;32m/opt/homebrew/lib/python3.11/site-packages/patsy/highlevel.py:309\u001b[0m, in \u001b[0;36mdmatrices\u001b[0;34m(formula_like, data, eval_env, NA_action, return_type)\u001b[0m\n\u001b[1;32m    299\u001b[0m \u001b[38;5;250m\u001b[39m\u001b[38;5;124;03m\"\"\"Construct two design matrices given a formula_like and data.\u001b[39;00m\n\u001b[1;32m    300\u001b[0m \n\u001b[1;32m    301\u001b[0m \u001b[38;5;124;03mThis function is identical to :func:`dmatrix`, except that it requires\u001b[39;00m\n\u001b[0;32m   (...)\u001b[0m\n\u001b[1;32m    306\u001b[0m \u001b[38;5;124;03mSee :func:`dmatrix` for details.\u001b[39;00m\n\u001b[1;32m    307\u001b[0m \u001b[38;5;124;03m\"\"\"\u001b[39;00m\n\u001b[1;32m    308\u001b[0m eval_env \u001b[38;5;241m=\u001b[39m EvalEnvironment\u001b[38;5;241m.\u001b[39mcapture(eval_env, reference\u001b[38;5;241m=\u001b[39m\u001b[38;5;241m1\u001b[39m)\n\u001b[0;32m--> 309\u001b[0m (lhs, rhs) \u001b[38;5;241m=\u001b[39m \u001b[43m_do_highlevel_design\u001b[49m\u001b[43m(\u001b[49m\u001b[43mformula_like\u001b[49m\u001b[43m,\u001b[49m\u001b[43m \u001b[49m\u001b[43mdata\u001b[49m\u001b[43m,\u001b[49m\u001b[43m \u001b[49m\u001b[43meval_env\u001b[49m\u001b[43m,\u001b[49m\n\u001b[1;32m    310\u001b[0m \u001b[43m                                  \u001b[49m\u001b[43mNA_action\u001b[49m\u001b[43m,\u001b[49m\u001b[43m \u001b[49m\u001b[43mreturn_type\u001b[49m\u001b[43m)\u001b[49m\n\u001b[1;32m    311\u001b[0m \u001b[38;5;28;01mif\u001b[39;00m lhs\u001b[38;5;241m.\u001b[39mshape[\u001b[38;5;241m1\u001b[39m] \u001b[38;5;241m==\u001b[39m \u001b[38;5;241m0\u001b[39m:\n\u001b[1;32m    312\u001b[0m     \u001b[38;5;28;01mraise\u001b[39;00m PatsyError(\u001b[38;5;124m\"\u001b[39m\u001b[38;5;124mmodel is missing required outcome variables\u001b[39m\u001b[38;5;124m\"\u001b[39m)\n",
      "File \u001b[0;32m/opt/homebrew/lib/python3.11/site-packages/patsy/highlevel.py:164\u001b[0m, in \u001b[0;36m_do_highlevel_design\u001b[0;34m(formula_like, data, eval_env, NA_action, return_type)\u001b[0m\n\u001b[1;32m    162\u001b[0m \u001b[38;5;28;01mdef\u001b[39;00m \u001b[38;5;21mdata_iter_maker\u001b[39m():\n\u001b[1;32m    163\u001b[0m     \u001b[38;5;28;01mreturn\u001b[39;00m \u001b[38;5;28miter\u001b[39m([data])\n\u001b[0;32m--> 164\u001b[0m design_infos \u001b[38;5;241m=\u001b[39m \u001b[43m_try_incr_builders\u001b[49m\u001b[43m(\u001b[49m\u001b[43mformula_like\u001b[49m\u001b[43m,\u001b[49m\u001b[43m \u001b[49m\u001b[43mdata_iter_maker\u001b[49m\u001b[43m,\u001b[49m\u001b[43m \u001b[49m\u001b[43meval_env\u001b[49m\u001b[43m,\u001b[49m\n\u001b[1;32m    165\u001b[0m \u001b[43m                                  \u001b[49m\u001b[43mNA_action\u001b[49m\u001b[43m)\u001b[49m\n\u001b[1;32m    166\u001b[0m \u001b[38;5;28;01mif\u001b[39;00m design_infos \u001b[38;5;129;01mis\u001b[39;00m \u001b[38;5;129;01mnot\u001b[39;00m \u001b[38;5;28;01mNone\u001b[39;00m:\n\u001b[1;32m    167\u001b[0m     \u001b[38;5;28;01mreturn\u001b[39;00m build_design_matrices(design_infos, data,\n\u001b[1;32m    168\u001b[0m                                  NA_action\u001b[38;5;241m=\u001b[39mNA_action,\n\u001b[1;32m    169\u001b[0m                                  return_type\u001b[38;5;241m=\u001b[39mreturn_type)\n",
      "File \u001b[0;32m/opt/homebrew/lib/python3.11/site-packages/patsy/highlevel.py:66\u001b[0m, in \u001b[0;36m_try_incr_builders\u001b[0;34m(formula_like, data_iter_maker, eval_env, NA_action)\u001b[0m\n\u001b[1;32m     64\u001b[0m \u001b[38;5;28;01mif\u001b[39;00m \u001b[38;5;28misinstance\u001b[39m(formula_like, ModelDesc):\n\u001b[1;32m     65\u001b[0m     \u001b[38;5;28;01massert\u001b[39;00m \u001b[38;5;28misinstance\u001b[39m(eval_env, EvalEnvironment)\n\u001b[0;32m---> 66\u001b[0m     \u001b[38;5;28;01mreturn\u001b[39;00m \u001b[43mdesign_matrix_builders\u001b[49m\u001b[43m(\u001b[49m\u001b[43m[\u001b[49m\u001b[43mformula_like\u001b[49m\u001b[38;5;241;43m.\u001b[39;49m\u001b[43mlhs_termlist\u001b[49m\u001b[43m,\u001b[49m\n\u001b[1;32m     67\u001b[0m \u001b[43m                                   \u001b[49m\u001b[43mformula_like\u001b[49m\u001b[38;5;241;43m.\u001b[39;49m\u001b[43mrhs_termlist\u001b[49m\u001b[43m]\u001b[49m\u001b[43m,\u001b[49m\n\u001b[1;32m     68\u001b[0m \u001b[43m                                  \u001b[49m\u001b[43mdata_iter_maker\u001b[49m\u001b[43m,\u001b[49m\n\u001b[1;32m     69\u001b[0m \u001b[43m                                  \u001b[49m\u001b[43meval_env\u001b[49m\u001b[43m,\u001b[49m\n\u001b[1;32m     70\u001b[0m \u001b[43m                                  \u001b[49m\u001b[43mNA_action\u001b[49m\u001b[43m)\u001b[49m\n\u001b[1;32m     71\u001b[0m \u001b[38;5;28;01melse\u001b[39;00m:\n\u001b[1;32m     72\u001b[0m     \u001b[38;5;28;01mreturn\u001b[39;00m \u001b[38;5;28;01mNone\u001b[39;00m\n",
      "File \u001b[0;32m/opt/homebrew/lib/python3.11/site-packages/patsy/build.py:693\u001b[0m, in \u001b[0;36mdesign_matrix_builders\u001b[0;34m(termlists, data_iter_maker, eval_env, NA_action)\u001b[0m\n\u001b[1;32m    689\u001b[0m factor_states \u001b[38;5;241m=\u001b[39m _factors_memorize(all_factors, data_iter_maker, eval_env)\n\u001b[1;32m    690\u001b[0m \u001b[38;5;66;03m# Now all the factors have working eval methods, so we can evaluate them\u001b[39;00m\n\u001b[1;32m    691\u001b[0m \u001b[38;5;66;03m# on some data to find out what type of data they return.\u001b[39;00m\n\u001b[1;32m    692\u001b[0m (num_column_counts,\n\u001b[0;32m--> 693\u001b[0m  cat_levels_contrasts) \u001b[38;5;241m=\u001b[39m \u001b[43m_examine_factor_types\u001b[49m\u001b[43m(\u001b[49m\u001b[43mall_factors\u001b[49m\u001b[43m,\u001b[49m\n\u001b[1;32m    694\u001b[0m \u001b[43m                                               \u001b[49m\u001b[43mfactor_states\u001b[49m\u001b[43m,\u001b[49m\n\u001b[1;32m    695\u001b[0m \u001b[43m                                               \u001b[49m\u001b[43mdata_iter_maker\u001b[49m\u001b[43m,\u001b[49m\n\u001b[1;32m    696\u001b[0m \u001b[43m                                               \u001b[49m\u001b[43mNA_action\u001b[49m\u001b[43m)\u001b[49m\n\u001b[1;32m    697\u001b[0m \u001b[38;5;66;03m# Now we need the factor infos, which encapsulate the knowledge of\u001b[39;00m\n\u001b[1;32m    698\u001b[0m \u001b[38;5;66;03m# how to turn any given factor into a chunk of data:\u001b[39;00m\n\u001b[1;32m    699\u001b[0m factor_infos \u001b[38;5;241m=\u001b[39m {}\n",
      "File \u001b[0;32m/opt/homebrew/lib/python3.11/site-packages/patsy/build.py:443\u001b[0m, in \u001b[0;36m_examine_factor_types\u001b[0;34m(factors, factor_states, data_iter_maker, NA_action)\u001b[0m\n\u001b[1;32m    441\u001b[0m \u001b[38;5;28;01mfor\u001b[39;00m data \u001b[38;5;129;01min\u001b[39;00m data_iter_maker():\n\u001b[1;32m    442\u001b[0m     \u001b[38;5;28;01mfor\u001b[39;00m factor \u001b[38;5;129;01min\u001b[39;00m \u001b[38;5;28mlist\u001b[39m(examine_needed):\n\u001b[0;32m--> 443\u001b[0m         value \u001b[38;5;241m=\u001b[39m \u001b[43mfactor\u001b[49m\u001b[38;5;241;43m.\u001b[39;49m\u001b[43meval\u001b[49m\u001b[43m(\u001b[49m\u001b[43mfactor_states\u001b[49m\u001b[43m[\u001b[49m\u001b[43mfactor\u001b[49m\u001b[43m]\u001b[49m\u001b[43m,\u001b[49m\u001b[43m \u001b[49m\u001b[43mdata\u001b[49m\u001b[43m)\u001b[49m\n\u001b[1;32m    444\u001b[0m         \u001b[38;5;28;01mif\u001b[39;00m factor \u001b[38;5;129;01min\u001b[39;00m cat_sniffers \u001b[38;5;129;01mor\u001b[39;00m guess_categorical(value):\n\u001b[1;32m    445\u001b[0m             \u001b[38;5;28;01mif\u001b[39;00m factor \u001b[38;5;129;01mnot\u001b[39;00m \u001b[38;5;129;01min\u001b[39;00m cat_sniffers:\n",
      "File \u001b[0;32m/opt/homebrew/lib/python3.11/site-packages/patsy/eval.py:568\u001b[0m, in \u001b[0;36mEvalFactor.eval\u001b[0;34m(self, memorize_state, data)\u001b[0m\n\u001b[1;32m    567\u001b[0m \u001b[38;5;28;01mdef\u001b[39;00m \u001b[38;5;21meval\u001b[39m(\u001b[38;5;28mself\u001b[39m, memorize_state, data):\n\u001b[0;32m--> 568\u001b[0m     \u001b[38;5;28;01mreturn\u001b[39;00m \u001b[38;5;28;43mself\u001b[39;49m\u001b[38;5;241;43m.\u001b[39;49m\u001b[43m_eval\u001b[49m\u001b[43m(\u001b[49m\u001b[43mmemorize_state\u001b[49m\u001b[43m[\u001b[49m\u001b[38;5;124;43m\"\u001b[39;49m\u001b[38;5;124;43meval_code\u001b[39;49m\u001b[38;5;124;43m\"\u001b[39;49m\u001b[43m]\u001b[49m\u001b[43m,\u001b[49m\n\u001b[1;32m    569\u001b[0m \u001b[43m                      \u001b[49m\u001b[43mmemorize_state\u001b[49m\u001b[43m,\u001b[49m\n\u001b[1;32m    570\u001b[0m \u001b[43m                      \u001b[49m\u001b[43mdata\u001b[49m\u001b[43m)\u001b[49m\n",
      "File \u001b[0;32m/opt/homebrew/lib/python3.11/site-packages/patsy/eval.py:551\u001b[0m, in \u001b[0;36mEvalFactor._eval\u001b[0;34m(self, code, memorize_state, data)\u001b[0m\n\u001b[1;32m    549\u001b[0m \u001b[38;5;28;01mdef\u001b[39;00m \u001b[38;5;21m_eval\u001b[39m(\u001b[38;5;28mself\u001b[39m, code, memorize_state, data):\n\u001b[1;32m    550\u001b[0m     inner_namespace \u001b[38;5;241m=\u001b[39m VarLookupDict([data, memorize_state[\u001b[38;5;124m\"\u001b[39m\u001b[38;5;124mtransforms\u001b[39m\u001b[38;5;124m\"\u001b[39m]])\n\u001b[0;32m--> 551\u001b[0m     \u001b[38;5;28;01mreturn\u001b[39;00m \u001b[43mcall_and_wrap_exc\u001b[49m\u001b[43m(\u001b[49m\u001b[38;5;124;43m\"\u001b[39;49m\u001b[38;5;124;43mError evaluating factor\u001b[39;49m\u001b[38;5;124;43m\"\u001b[39;49m\u001b[43m,\u001b[49m\n\u001b[1;32m    552\u001b[0m \u001b[43m                             \u001b[49m\u001b[38;5;28;43mself\u001b[39;49m\u001b[43m,\u001b[49m\n\u001b[1;32m    553\u001b[0m \u001b[43m                             \u001b[49m\u001b[43mmemorize_state\u001b[49m\u001b[43m[\u001b[49m\u001b[38;5;124;43m\"\u001b[39;49m\u001b[38;5;124;43meval_env\u001b[39;49m\u001b[38;5;124;43m\"\u001b[39;49m\u001b[43m]\u001b[49m\u001b[38;5;241;43m.\u001b[39;49m\u001b[43meval\u001b[49m\u001b[43m,\u001b[49m\n\u001b[1;32m    554\u001b[0m \u001b[43m                             \u001b[49m\u001b[43mcode\u001b[49m\u001b[43m,\u001b[49m\n\u001b[1;32m    555\u001b[0m \u001b[43m                             \u001b[49m\u001b[43minner_namespace\u001b[49m\u001b[38;5;241;43m=\u001b[39;49m\u001b[43minner_namespace\u001b[49m\u001b[43m)\u001b[49m\n",
      "File \u001b[0;32m/opt/homebrew/lib/python3.11/site-packages/patsy/compat.py:43\u001b[0m, in \u001b[0;36mcall_and_wrap_exc\u001b[0;34m(msg, origin, f, *args, **kwargs)\u001b[0m\n\u001b[1;32m     39\u001b[0m     new_exc \u001b[38;5;241m=\u001b[39m PatsyError(\u001b[38;5;124m\"\u001b[39m\u001b[38;5;132;01m%s\u001b[39;00m\u001b[38;5;124m: \u001b[39m\u001b[38;5;132;01m%s\u001b[39;00m\u001b[38;5;124m: \u001b[39m\u001b[38;5;132;01m%s\u001b[39;00m\u001b[38;5;124m\"\u001b[39m\n\u001b[1;32m     40\u001b[0m                          \u001b[38;5;241m%\u001b[39m (msg, e\u001b[38;5;241m.\u001b[39m\u001b[38;5;18m__class__\u001b[39m\u001b[38;5;241m.\u001b[39m\u001b[38;5;18m__name__\u001b[39m, e),\n\u001b[1;32m     41\u001b[0m                          origin)\n\u001b[1;32m     42\u001b[0m     \u001b[38;5;66;03m# Use 'exec' to hide this syntax from the Python 2 parser:\u001b[39;00m\n\u001b[0;32m---> 43\u001b[0m     \u001b[43mexec\u001b[49m\u001b[43m(\u001b[49m\u001b[38;5;124;43m\"\u001b[39;49m\u001b[38;5;124;43mraise new_exc from e\u001b[39;49m\u001b[38;5;124;43m\"\u001b[39;49m\u001b[43m)\u001b[49m\n\u001b[1;32m     44\u001b[0m \u001b[38;5;28;01melse\u001b[39;00m:\n\u001b[1;32m     45\u001b[0m     \u001b[38;5;66;03m# In python 2, we just let the original exception escape -- better\u001b[39;00m\n\u001b[1;32m     46\u001b[0m     \u001b[38;5;66;03m# than destroying the traceback. But if it's a PatsyError, we can\u001b[39;00m\n\u001b[1;32m     47\u001b[0m     \u001b[38;5;66;03m# at least set the origin properly.\u001b[39;00m\n\u001b[1;32m     48\u001b[0m     \u001b[38;5;28;01mif\u001b[39;00m \u001b[38;5;28misinstance\u001b[39m(e, PatsyError):\n",
      "File \u001b[0;32m<string>:1\u001b[0m\n",
      "\u001b[0;31mPatsyError\u001b[0m: Error evaluating factor: NameError: name 'sex' is not defined\n    offensiveness ~ sex + race + age\n                    ^^^"
     ]
    }
   ],
   "source": [
    "mod = mixedlm(formula = 'offensiveness' + ' ~ sex + race + age', \n",
    "                      data=ann_df[ann_df['user'].isin(valid_users)], groups = ann_df[ann_df['user'].isin(valid_users)]['instance_id'])\n",
    "res = mod.fit()\n",
    "print(res.summary())"
   ]
  },
  {
   "cell_type": "code",
   "execution_count": 68,
   "id": "9f9dfd6e-36e1-4f4c-9c18-b3595cb0994b",
   "metadata": {
    "tags": []
   },
   "outputs": [],
   "source": [
    "man = [it for it in valid_users if user_dict[it]['gender']=='Man']\n",
    "woman = [it for it in valid_users if user_dict[it]['gender']=='Woman']"
   ]
  },
  {
   "cell_type": "code",
   "execution_count": 74,
   "id": "28f535d1-122c-426e-879c-a53145154590",
   "metadata": {},
   "outputs": [
    {
     "data": {
      "text/plain": [
       "0.2773269035266538"
      ]
     },
     "execution_count": 74,
     "metadata": {},
     "output_type": "execute_result"
    }
   ],
   "source": [
    "krippendorff.alpha(np.array(agree_df[man]).transpose(), level_of_measurement='ordinal')"
   ]
  },
  {
   "cell_type": "code",
   "execution_count": 71,
   "id": "5f9c73db-c4e0-4e65-9216-4dc2d8ba8ea4",
   "metadata": {
    "tags": []
   },
   "outputs": [
    {
     "data": {
      "text/plain": [
       "0.2915989136643693"
      ]
     },
     "execution_count": 71,
     "metadata": {},
     "output_type": "execute_result"
    }
   ],
   "source": [
    "krippendorff.alpha(np.array(agree_df[woman]).transpose(), level_of_measurement='ordinal')"
   ]
  },
  {
   "cell_type": "code",
   "execution_count": 72,
   "id": "3412e442-48ea-4e1c-9342-6236d6f1700c",
   "metadata": {
    "tags": []
   },
   "outputs": [],
   "source": [
    "white = [it for it in valid_users if user_dict[it]['gender']=='Man']\n",
    "nonwhite = [it for it in valid_users if user_dict[it]['gender']=='Woman']"
   ]
  },
  {
   "cell_type": "code",
   "execution_count": 73,
   "id": "f7b10f08-46aa-44a4-ab7b-7658233150f5",
   "metadata": {
    "tags": []
   },
   "outputs": [
    {
     "data": {
      "text/plain": [
       "(0.2915989136643693, 0.2773269035266538)"
      ]
     },
     "execution_count": 73,
     "metadata": {},
     "output_type": "execute_result"
    }
   ],
   "source": [
    "krippendorff.alpha(np.array(agree_df[nonwhite]).transpose(), level_of_measurement='ordinal'),krippendorff.alpha(np.array(agree_df[white]).transpose(), level_of_measurement='ordinal')"
   ]
  },
  {
   "cell_type": "code",
   "execution_count": 88,
   "id": "6e030d95-6ba8-4433-a419-873f59af8b7d",
   "metadata": {
    "tags": []
   },
   "outputs": [],
   "source": [
    "demo = pd.read_csv('annotation_output/full/demographics.csv')\n",
    "demo_dict = {}\n",
    "for i, row in demo.iterrows():\n",
    "    demo_dict[row['Participant id']] = dict(row)"
   ]
  },
  {
   "cell_type": "code",
   "execution_count": 18,
   "id": "bd658dc9-e5cf-4422-83ee-54f3361acf1a",
   "metadata": {
    "tags": []
   },
   "outputs": [],
   "source": [
    "ann_df['ruddit'] = [data_dict[it]['offensiveness_score'] for it in ann_df['instance_id']]"
   ]
  },
  {
   "cell_type": "code",
   "execution_count": 22,
   "id": "6dc135ab-32f1-4ca7-9988-0678f72c8b23",
   "metadata": {
    "tags": []
   },
   "outputs": [
    {
     "data": {
      "text/plain": [
       "(262, 246)"
      ]
     },
     "execution_count": 22,
     "metadata": {},
     "output_type": "execute_result"
    }
   ],
   "source": [
    "len(set(ann_df['user'])), len(set(t_df['user'])), "
   ]
  },
  {
   "cell_type": "code",
   "execution_count": 21,
   "id": "4a9c115b-d3e0-4cf0-8e24-1232903dbe9f",
   "metadata": {
    "tags": []
   },
   "outputs": [
    {
     "data": {
      "text/plain": [
       "12252"
      ]
     },
     "execution_count": 21,
     "metadata": {},
     "output_type": "execute_result"
    }
   ],
   "source": [
    "len(t_df)"
   ]
  },
  {
   "cell_type": "code",
   "execution_count": 19,
   "id": "54e743c5-f963-49c3-b918-a701de600271",
   "metadata": {},
   "outputs": [
    {
     "name": "stderr",
     "output_type": "stream",
     "text": [
      "/opt/homebrew/lib/python3.11/site-packages/statsmodels/base/model.py:604: ConvergenceWarning: Maximum Likelihood optimization failed to converge. Check mle_retvals\n",
      "  warnings.warn(\"Maximum Likelihood optimization failed to \"\n",
      "/opt/homebrew/lib/python3.11/site-packages/statsmodels/regression/mixed_linear_model.py:2200: ConvergenceWarning: Retrying MixedLM optimization with lbfgs\n",
      "  warnings.warn(\n"
     ]
    },
    {
     "name": "stdout",
     "output_type": "stream",
     "text": [
      "                   Mixed Linear Model Regression Results\n",
      "============================================================================\n",
      "Model:                   MixedLM      Dependent Variable:      offensiveness\n",
      "No. Observations:        12252        Method:                  REML         \n",
      "No. Groups:              1500         Scale:                   1.0415       \n",
      "Min. group size:         4            Log-Likelihood:          -18243.8361  \n",
      "Max. group size:         10           Converged:               Yes          \n",
      "Mean group size:         8.2                                                \n",
      "----------------------------------------------------------------------------\n",
      "                                  Coef.  Std.Err.   z    P>|z| [0.025 0.975]\n",
      "----------------------------------------------------------------------------\n",
      "Intercept                          1.959    0.046 42.437 0.000  1.868  2.049\n",
      "gender[T.Non-binary]              -0.230    0.060 -3.837 0.000 -0.347 -0.112\n",
      "gender[T.Woman]                   -0.022    0.020 -1.090 0.276 -0.062  0.018\n",
      "race[T.Black or African American]  0.185    0.044  4.162 0.000  0.098  0.272\n",
      "race[T.Hispanic or Latino]        -0.405    0.078 -5.216 0.000 -0.557 -0.253\n",
      "race[T.White]                     -0.099    0.037 -2.652 0.008 -0.173 -0.026\n",
      "age[T.25-29]                      -0.195    0.043 -4.530 0.000 -0.279 -0.111\n",
      "age[T.30-34]                      -0.162    0.040 -4.032 0.000 -0.241 -0.083\n",
      "age[T.35-39]                      -0.138    0.040 -3.439 0.001 -0.216 -0.059\n",
      "age[T.40-44]                      -0.042    0.042 -1.000 0.317 -0.125  0.041\n",
      "age[T.45-49]                      -0.088    0.044 -2.011 0.044 -0.173 -0.002\n",
      "age[T.50-54]                      -0.140    0.046 -3.072 0.002 -0.229 -0.051\n",
      "age[T.54-59]                       0.002    0.039  0.059 0.953 -0.073  0.078\n",
      "age[T.60-64]                       0.290    0.050  5.830 0.000  0.193  0.388\n",
      "age[T.>65]                         0.120    0.042  2.856 0.004  0.038  0.203\n",
      "education[T.College degree]       -0.019    0.023 -0.840 0.401 -0.063  0.025\n",
      "education[T.Graduate degree]       0.048    0.029  1.686 0.092 -0.008  0.105\n",
      "ruddit                             1.405    0.038 36.984 0.000  1.330  1.479\n",
      "Group Var                          0.147    0.009                           \n",
      "============================================================================\n",
      "\n"
     ]
    }
   ],
   "source": [
    "t_df = ann_df[~ann_df['education'].isin(['Other','Prefer not to disclose','Less than a high school diploma'])]\n",
    "t_df = t_df[~t_df.race.isin(['Prefer not to disclose','Native Hawaiian or Pacific Islander','American India or Alaska Native'])]\n",
    "t_df['race'] = ['Hispanic or Latino' if it.lower() in ['hispanic','latino'] else it for it in t_df['race']]\n",
    "t_df['education'] = ['0' if it == 'High school diploma or equivalent' else it for it in t_df['education']]\n",
    "mod = mixedlm(formula = 'offensiveness' + ' ~ gender + race + age + education + ruddit', \n",
    "                      data=t_df, groups = t_df['instance_id'])\n",
    "res = mod.fit()\n",
    "print(res.summary())\n",
    "res_df =  results_summary_to_dataframe(res)"
   ]
  },
  {
   "cell_type": "code",
   "execution_count": 79,
   "id": "45add841-1da8-4695-ac51-ff76c43a5699",
   "metadata": {
    "tags": []
   },
   "outputs": [
    {
     "name": "stderr",
     "output_type": "stream",
     "text": [
      "/opt/homebrew/lib/python3.11/site-packages/statsmodels/base/model.py:604: ConvergenceWarning: Maximum Likelihood optimization failed to converge. Check mle_retvals\n",
      "  warnings.warn(\"Maximum Likelihood optimization failed to \"\n",
      "/opt/homebrew/lib/python3.11/site-packages/statsmodels/regression/mixed_linear_model.py:2200: ConvergenceWarning: Retrying MixedLM optimization with lbfgs\n",
      "  warnings.warn(\n"
     ]
    },
    {
     "name": "stdout",
     "output_type": "stream",
     "text": [
      "nan              Mixed Linear Model Regression Results\n",
      "================================================================\n",
      "Model:               MixedLM  Dependent Variable:  offensiveness\n",
      "No. Observations:    12252    Method:              REML         \n",
      "No. Groups:          1500     Scale:               1.0667       \n",
      "Min. group size:     4        Log-Likelihood:      -18370.8224  \n",
      "Max. group size:     10       Converged:           Yes          \n",
      "Mean group size:     8.2                                        \n",
      "----------------------------------------------------------------\n",
      "                     Coef.  Std.Err.    z    P>|z| [0.025 0.975]\n",
      "----------------------------------------------------------------\n",
      "Intercept             1.859    0.017 108.043 0.000  1.825  1.892\n",
      "gender[T.Non-binary] -0.253    0.059  -4.311 0.000 -0.369 -0.138\n",
      "gender[T.Woman]      -0.028    0.020  -1.440 0.150 -0.067  0.010\n",
      "ruddit                1.407    0.039  36.416 0.000  1.331  1.482\n",
      "Group Var             0.154    0.010                            \n",
      "================================================================\n",
      "\n"
     ]
    }
   ],
   "source": [
    "mod = mixedlm(formula = 'offensiveness' + ' ~ gender + ruddit', \n",
    "                      data=t_df, groups=t_df['instance_id'])\n",
    "res = mod.fit()\n",
    "print(res.aic, res.summary())\n",
    "res_df =  results_summary_to_dataframe(res)"
   ]
  },
  {
   "cell_type": "code",
   "execution_count": 80,
   "id": "257cbf97-433c-4586-9aa2-ed6ac186ef80",
   "metadata": {
    "tags": []
   },
   "outputs": [],
   "source": [
    "from collections import Counter"
   ]
  },
  {
   "cell_type": "code",
   "execution_count": 84,
   "id": "abdfb3d7-90d4-4b33-93ec-63f8b0cf8f0b",
   "metadata": {
    "tags": []
   },
   "outputs": [
    {
     "data": {
      "text/plain": [
       "[(('Woman', 'White'), 4831),\n",
       " (('Man', 'White'), 4723),\n",
       " (('Woman', 'Black or African American'), 892),\n",
       " (('Man', 'Black or African American'), 693),\n",
       " (('Woman', 'Asian'), 499),\n",
       " (('Man', 'Asian'), 450),\n",
       " (('Non-binary', 'White'), 250),\n",
       " (('Woman', 'American India or Alaska Native'), 149),\n",
       " (('Non-binary', 'Black or African American'), 100),\n",
       " (('Man', 'American India or Alaska Native'), 100),\n",
       " (('Man', 'Hispanic'), 100),\n",
       " (('Man', 'Native American ( Indians are from India )'), 50),\n",
       " (('Woman', 'latino'), 50),\n",
       " (('Man', 'hispanic'), 50),\n",
       " (('Woman', 'Hispanic'), 50),\n",
       " (('Woman', 'Arab American'), 49)]"
      ]
     },
     "execution_count": 84,
     "metadata": {},
     "output_type": "execute_result"
    }
   ],
   "source": [
    "interaction_counts = Counter()\n",
    "def tmp1(row):\n",
    "    interaction_counts[(row['gender'], row['race'])] += 1\n",
    "ann_df.apply(tmp1, axis=1)\n",
    "interaction_counts.most_common()"
   ]
  },
  {
   "cell_type": "code",
   "execution_count": 78,
   "id": "dc749763-15fa-4e84-b670-27a6895cc5e5",
   "metadata": {
    "tags": []
   },
   "outputs": [
    {
     "name": "stdout",
     "output_type": "stream",
     "text": [
      "37209.44007009563                             OLS Regression Results                            \n",
      "==============================================================================\n",
      "Dep. Variable:          offensiveness   R-squared:                       0.181\n",
      "Model:                            OLS   Adj. R-squared:                  0.180\n",
      "Method:                 Least Squares   F-statistic:                     245.1\n",
      "Date:                Mon, 17 Apr 2023   Prob (F-statistic):               0.00\n",
      "Time:                        10:20:19   Log-Likelihood:                -18593.\n",
      "No. Observations:               12252   AIC:                         3.721e+04\n",
      "Df Residuals:                   12240   BIC:                         3.730e+04\n",
      "Df Model:                          11                                         \n",
      "Covariance Type:            nonrobust                                         \n",
      "==========================================================================================================================\n",
      "                                                             coef    std err          t      P>|t|      [0.025      0.975]\n",
      "--------------------------------------------------------------------------------------------------------------------------\n",
      "Intercept                                                  1.9181      0.052     36.824      0.000       1.816       2.020\n",
      "gender[T.Non-binary]                                   -3.368e+11   2.95e+11     -1.142      0.253   -9.15e+11    2.41e+11\n",
      "gender[T.Woman]                                           -0.1106      0.074     -1.501      0.133      -0.255       0.034\n",
      "race[T.Black or African American]                          0.2092      0.068      3.081      0.002       0.076       0.342\n",
      "race[T.Hispanic or Latino]                                -0.6595      0.104     -6.335      0.000      -0.864      -0.455\n",
      "race[T.White]                                             -0.0828      0.055     -1.518      0.129      -0.190       0.024\n",
      "gender[T.Non-binary]:race[T.Black or African American]  3.368e+11   2.95e+11      1.142      0.253   -2.41e+11    9.15e+11\n",
      "gender[T.Woman]:race[T.Black or African American]          0.0849      0.093      0.911      0.362      -0.098       0.268\n",
      "gender[T.Non-binary]:race[T.Hispanic or Latino]          4.78e+05   4.18e+05      1.142      0.253   -3.42e+05     1.3e+06\n",
      "gender[T.Woman]:race[T.Hispanic or Latino]                 0.6272      0.160      3.909      0.000       0.313       0.942\n",
      "gender[T.Non-binary]:race[T.White]                      3.368e+11   2.95e+11      1.142      0.253   -2.41e+11    9.15e+11\n",
      "gender[T.Woman]:race[T.White]                              0.0575      0.077      0.746      0.456      -0.094       0.209\n",
      "ruddit                                                     1.4041      0.028     50.385      0.000       1.349       1.459\n",
      "==============================================================================\n",
      "Omnibus:                     1374.497   Durbin-Watson:                   1.515\n",
      "Prob(Omnibus):                  0.000   Jarque-Bera (JB):             1879.095\n",
      "Skew:                           0.943   Prob(JB):                         0.00\n",
      "Kurtosis:                       3.353   Cond. No.                     1.71e+17\n",
      "==============================================================================\n",
      "\n",
      "Notes:\n",
      "[1] Standard Errors assume that the covariance matrix of the errors is correctly specified.\n",
      "[2] The smallest eigenvalue is 9.17e-31. This might indicate that there are\n",
      "strong multicollinearity problems or that the design matrix is singular.\n"
     ]
    }
   ],
   "source": [
    "mod = ols(formula = 'offensiveness' + ' ~ gender*race + ruddit', \n",
    "                      data=t_df)\n",
    "res = mod.fit()\n",
    "print(res.aic, res.summary())\n",
    "res_df =  results_summary_to_dataframe(res)"
   ]
  },
  {
   "cell_type": "code",
   "execution_count": 72,
   "id": "037d8f91-ddf9-437a-8da0-f50dc35a99cd",
   "metadata": {
    "tags": []
   },
   "outputs": [
    {
     "data": {
      "text/plain": [
       "(100, 150, 643)"
      ]
     },
     "execution_count": 72,
     "metadata": {},
     "output_type": "execute_result"
    }
   ],
   "source": [
    "len(t_df[(t_df.race=='Hispanic or Latino')&(t_df.gender=='Woman')]), len(t_df[(t_df.race=='Hispanic or Latino')&(t_df.gender=='Man')]),len(t_df[(t_df.race=='Black or African American')&(t_df.gender=='Man')])"
   ]
  },
  {
   "cell_type": "code",
   "execution_count": 59,
   "id": "7a544828-2539-4ba0-b5ab-4a27f0df3a5e",
   "metadata": {
    "tags": []
   },
   "outputs": [
    {
     "name": "stdout",
     "output_type": "stream",
     "text": [
      "39330.36340274522                             OLS Regression Results                            \n",
      "==============================================================================\n",
      "Dep. Variable:          offensiveness   R-squared:                       0.028\n",
      "Model:                            OLS   Adj. R-squared:                  0.026\n",
      "Method:                 Least Squares   F-statistic:                     13.55\n",
      "Date:                Mon, 17 Apr 2023   Prob (F-statistic):           5.73e-58\n",
      "Time:                        09:47:49   Log-Likelihood:                -19638.\n",
      "No. Observations:               12252   AIC:                         3.933e+04\n",
      "Df Residuals:                   12225   BIC:                         3.953e+04\n",
      "Df Model:                          26                                         \n",
      "Covariance Type:            nonrobust                                         \n",
      "=======================================================================================================================================================\n",
      "                                                                                          coef    std err          t      P>|t|      [0.025      0.975]\n",
      "-------------------------------------------------------------------------------------------------------------------------------------------------------\n",
      "Intercept                                                                               1.9412      0.098     19.756      0.000       1.749       2.134\n",
      "gender[T.Non-binary]                                                                -2.539e+11    3.5e+11     -0.725      0.468    -9.4e+11    4.32e+11\n",
      "gender[T.Woman]                                                                        -0.3375      0.155     -2.171      0.030      -0.642      -0.033\n",
      "race[T.Black or African American]                                                      -0.3987      0.157     -2.541      0.011      -0.706      -0.091\n",
      "race[T.Hispanic or Latino]                                                          -7.246e+11    9.1e+11     -0.796      0.426   -2.51e+12    1.06e+12\n",
      "race[T.White]                                                                          -0.0657      0.103     -0.637      0.524      -0.268       0.136\n",
      "education[T.College degree]                                                            -0.2492      0.139     -1.793      0.073      -0.522       0.023\n",
      "education[T.Graduate degree]                                                            0.3325      0.139      2.393      0.017       0.060       0.605\n",
      "gender[T.Non-binary]:race[T.Black or African American]                               2.539e+11    3.5e+11      0.725      0.468   -4.32e+11     9.4e+11\n",
      "gender[T.Woman]:race[T.Black or African American]                                       1.1650      0.208      5.614      0.000       0.758       1.572\n",
      "gender[T.Non-binary]:race[T.Hispanic or Latino]                                     -7.288e+07    2.7e+08     -0.270      0.787   -6.02e+08    4.56e+08\n",
      "gender[T.Woman]:race[T.Hispanic or Latino]                                           3.045e+09   4.28e+09      0.711      0.477   -5.35e+09    1.14e+10\n",
      "gender[T.Non-binary]:race[T.White]                                                   2.539e+11    3.5e+11      0.725      0.468   -4.32e+11     9.4e+11\n",
      "gender[T.Woman]:race[T.White]                                                           0.2630      0.162      1.629      0.103      -0.054       0.580\n",
      "gender[T.Non-binary]:education[T.College degree]                                    -1.514e+12   2.06e+12     -0.735      0.462   -5.55e+12    2.52e+12\n",
      "gender[T.Woman]:education[T.College degree]                                             0.7488      0.199      3.761      0.000       0.359       1.139\n",
      "gender[T.Non-binary]:education[T.Graduate degree]                                   -3.982e+09   5.69e+09     -0.700      0.484   -1.51e+10    7.16e+09\n",
      "gender[T.Woman]:education[T.Graduate degree]                                           -0.4520      0.220     -2.055      0.040      -0.883      -0.021\n",
      "race[T.Black or African American]:education[T.College degree]                           0.4537      0.201      2.260      0.024       0.060       0.847\n",
      "race[T.Hispanic or Latino]:education[T.College degree]                               7.246e+11    9.1e+11      0.796      0.426   -1.06e+12    2.51e+12\n",
      "race[T.White]:education[T.College degree]                                               0.2061      0.145      1.425      0.154      -0.077       0.490\n",
      "race[T.Black or African American]:education[T.Graduate degree]                          0.8466      0.197      4.288      0.000       0.460       1.234\n",
      "race[T.Hispanic or Latino]:education[T.Graduate degree]                              7.246e+11    9.1e+11      0.796      0.426   -1.06e+12    2.51e+12\n",
      "race[T.White]:education[T.Graduate degree]                                             -0.2109      0.149     -1.415      0.157      -0.503       0.081\n",
      "gender[T.Non-binary]:race[T.Black or African American]:education[T.College degree]   1.514e+12   2.06e+12      0.735      0.462   -2.52e+12    5.55e+12\n",
      "gender[T.Woman]:race[T.Black or African American]:education[T.College degree]          -1.3834      0.265     -5.225      0.000      -1.902      -0.864\n",
      "gender[T.Non-binary]:race[T.Hispanic or Latino]:education[T.College degree]            -0.0003      0.000     -0.688      0.491      -0.001       0.000\n",
      "gender[T.Woman]:race[T.Hispanic or Latino]:education[T.College degree]              -3.045e+09   4.28e+09     -0.711      0.477   -1.14e+10    5.35e+09\n",
      "gender[T.Non-binary]:race[T.White]:education[T.College degree]                       1.514e+12   2.06e+12      0.735      0.462   -2.52e+12    5.55e+12\n",
      "gender[T.Woman]:race[T.White]:education[T.College degree]                              -0.6589      0.207     -3.185      0.001      -1.064      -0.253\n",
      "gender[T.Non-binary]:race[T.Black or African American]:education[T.Graduate degree]  1.093e-37   5.56e-38      1.967      0.049    3.61e-40    2.18e-37\n",
      "gender[T.Woman]:race[T.Black or African American]:education[T.Graduate degree]         -1.0879      0.277     -3.921      0.000      -1.632      -0.544\n",
      "gender[T.Non-binary]:race[T.Hispanic or Latino]:education[T.Graduate degree]                 0          0        nan        nan           0           0\n",
      "gender[T.Woman]:race[T.Hispanic or Latino]:education[T.Graduate degree]                      0          0        nan        nan           0           0\n",
      "gender[T.Non-binary]:race[T.White]:education[T.Graduate degree]                      3.982e+09   5.69e+09      0.700      0.484   -7.16e+09    1.51e+10\n",
      "gender[T.Woman]:race[T.White]:education[T.Graduate degree]                              0.2896      0.232      1.246      0.213      -0.166       0.745\n",
      "==============================================================================\n",
      "Omnibus:                     1933.071   Durbin-Watson:                   1.631\n",
      "Prob(Omnibus):                  0.000   Jarque-Bera (JB):             2988.081\n",
      "Skew:                           1.195   Prob(JB):                         0.00\n",
      "Kurtosis:                       3.378   Cond. No.                     2.79e+16\n",
      "==============================================================================\n",
      "\n",
      "Notes:\n",
      "[1] Standard Errors assume that the covariance matrix of the errors is correctly specified.\n",
      "[2] The smallest eigenvalue is 4.57e-29. This might indicate that there are\n",
      "strong multicollinearity problems or that the design matrix is singular.\n"
     ]
    }
   ],
   "source": [
    "mod = ols(formula = 'offensiveness' + ' ~ gender*race*education', \n",
    "                      data=t_df)\n",
    "res = mod.fit()\n",
    "print(res.aic, res.summary())\n",
    "res_df =  results_summary_to_dataframe(res)"
   ]
  },
  {
   "cell_type": "code",
   "execution_count": 66,
   "id": "db85f381-8fc7-468a-8545-478a0dff4f33",
   "metadata": {
    "tags": []
   },
   "outputs": [
    {
     "name": "stdout",
     "output_type": "stream",
     "text": [
      "39472.69305279026                             OLS Regression Results                            \n",
      "==============================================================================\n",
      "Dep. Variable:          offensiveness   R-squared:                       0.014\n",
      "Model:                            OLS   Adj. R-squared:                  0.013\n",
      "Method:                 Least Squares   F-statistic:                     17.47\n",
      "Date:                Mon, 17 Apr 2023   Prob (F-statistic):           5.07e-32\n",
      "Time:                        09:48:59   Log-Likelihood:                -19725.\n",
      "No. Observations:               12252   AIC:                         3.947e+04\n",
      "Df Residuals:                   12241   BIC:                         3.955e+04\n",
      "Df Model:                          10                                         \n",
      "Covariance Type:            nonrobust                                         \n",
      "==================================================================================================================================\n",
      "                                                                     coef    std err          t      P>|t|      [0.025      0.975]\n",
      "----------------------------------------------------------------------------------------------------------------------------------\n",
      "Intercept                                                          1.8079      0.077     23.603      0.000       1.658       1.958\n",
      "race[T.Black or African American]                                  0.3975      0.094      4.229      0.000       0.213       0.582\n",
      "race[T.Hispanic or Latino]                                     -7.183e+11   1.93e+12     -0.372      0.710   -4.51e+12    3.07e+12\n",
      "race[T.White]                                                      0.0220      0.080      0.277      0.782      -0.134       0.178\n",
      "education[T.College degree]                                        0.1413      0.098      1.447      0.148      -0.050       0.333\n",
      "education[T.Graduate degree]                                       0.1491      0.108      1.376      0.169      -0.063       0.361\n",
      "race[T.Black or African American]:education[T.College degree]     -0.5546      0.123     -4.499      0.000      -0.796      -0.313\n",
      "race[T.Hispanic or Latino]:education[T.College degree]          7.183e+11   1.93e+12      0.372      0.710   -3.07e+12    4.51e+12\n",
      "race[T.White]:education[T.College degree]                         -0.1344      0.102     -1.323      0.186      -0.334       0.065\n",
      "race[T.Black or African American]:education[T.Graduate degree]     0.0127      0.131      0.097      0.923      -0.244       0.270\n",
      "race[T.Hispanic or Latino]:education[T.Graduate degree]         7.183e+11   1.93e+12      0.372      0.710   -3.07e+12    4.51e+12\n",
      "race[T.White]:education[T.Graduate degree]                        -0.1133      0.115     -0.989      0.323      -0.338       0.111\n",
      "==============================================================================\n",
      "Omnibus:                     1941.515   Durbin-Watson:                   1.608\n",
      "Prob(Omnibus):                  0.000   Jarque-Bera (JB):             3012.394\n",
      "Skew:                           1.203   Prob(JB):                         0.00\n",
      "Kurtosis:                       3.337   Cond. No.                     4.56e+14\n",
      "==============================================================================\n",
      "\n",
      "Notes:\n",
      "[1] Standard Errors assume that the covariance matrix of the errors is correctly specified.\n",
      "[2] The smallest eigenvalue is 1.31e-25. This might indicate that there are\n",
      "strong multicollinearity problems or that the design matrix is singular.\n"
     ]
    }
   ],
   "source": [
    "mod = ols(formula = 'offensiveness' + ' ~ race*education', \n",
    "                      data=t_df)\n",
    "res = mod.fit()\n",
    "print(res.aic, res.summary())\n",
    "res_df =  results_summary_to_dataframe(res)"
   ]
  },
  {
   "cell_type": "code",
   "execution_count": null,
   "id": "a7aede0f-e144-46fd-b46c-d816a24928d3",
   "metadata": {},
   "outputs": [],
   "source": []
  }
 ],
 "metadata": {
  "kernelspec": {
   "display_name": "Python 3 (ipykernel)",
   "language": "python",
   "name": "python3"
  },
  "language_info": {
   "codemirror_mode": {
    "name": "ipython",
    "version": 3
   },
   "file_extension": ".py",
   "mimetype": "text/x-python",
   "name": "python",
   "nbconvert_exporter": "python",
   "pygments_lexer": "ipython3",
   "version": "3.11.2"
  }
 },
 "nbformat": 4,
 "nbformat_minor": 5
}
