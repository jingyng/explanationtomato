{
 "cells": [
  {
   "cell_type": "code",
   "execution_count": 1,
   "id": "e7fa1e92-09f0-43af-9563-c8094afe45e6",
   "metadata": {
    "tags": []
   },
   "outputs": [],
   "source": [
    "import convokit\n",
    "import spacy"
   ]
  },
  {
   "cell_type": "code",
   "execution_count": 5,
   "id": "148ff2e2-03c6-499d-a261-1dbd7509e31d",
   "metadata": {
    "tags": []
   },
   "outputs": [],
   "source": [
    "from convokit import Corpus, Speaker, Utterance\n",
    "from convokit import download\n",
    "from convokit import TextParser\n",
    "from convokit import PolitenessStrategies"
   ]
  },
  {
   "cell_type": "code",
   "execution_count": 15,
   "id": "90437993-55bd-494b-af60-378fbfcce960",
   "metadata": {
    "tags": []
   },
   "outputs": [],
   "source": [
    "#!python -m spacy download en_core_web_sm"
   ]
  },
  {
   "cell_type": "code",
   "execution_count": 16,
   "id": "9b460a8b-07bb-4d94-9e41-6514e9ae71bd",
   "metadata": {
    "tags": []
   },
   "outputs": [],
   "source": [
    "spacy_nlp = spacy.load(\"en_core_web_sm\", disable=[\"ner\"])\n",
    "ps = PolitenessStrategies()"
   ]
  },
  {
   "cell_type": "code",
   "execution_count": null,
   "id": "3a534b29-17ce-4972-a66b-87a2a4f13f8e",
   "metadata": {},
   "outputs": [],
   "source": [
    "def get_strategies_for_utt(text):\n",
    "    utt = ps.transform_utterance('hello please maybe', spacy_nlp).meta[\"politeness_strategies\"]"
   ]
  },
  {
   "cell_type": "code",
   "execution_count": 19,
   "id": "d1103af5-9bc5-4b17-8bfe-b9b654da8625",
   "metadata": {
    "tags": []
   },
   "outputs": [
    {
     "data": {
      "text/plain": [
       "Utterance({'obj_type': 'utterance', 'meta': {'parsed': [{'rt': 0, 'toks': [{'tok': 'hello', 'tag': 'UH', 'dep': 'ROOT', 'dn': [1, 2]}, {'tok': 'please', 'tag': 'UH', 'dep': 'intj', 'up': 0, 'dn': []}, {'tok': 'maybe', 'tag': 'RB', 'dep': 'advmod', 'up': 0, 'dn': []}]}], 'politeness_strategies': {'feature_politeness_==Please==': 1, 'feature_politeness_==Please_start==': 0, 'feature_politeness_==HASHEDGE==': 1, 'feature_politeness_==Indirect_(btw)==': 0, 'feature_politeness_==Hedges==': 0, 'feature_politeness_==Factuality==': 0, 'feature_politeness_==Deference==': 0, 'feature_politeness_==Gratitude==': 0, 'feature_politeness_==Apologizing==': 0, 'feature_politeness_==1st_person_pl.==': 0, 'feature_politeness_==1st_person==': 0, 'feature_politeness_==1st_person_start==': 0, 'feature_politeness_==2nd_person==': 0, 'feature_politeness_==2nd_person_start==': 0, 'feature_politeness_==Indirect_(greeting)==': 1, 'feature_politeness_==Direct_question==': 0, 'feature_politeness_==Direct_start==': 0, 'feature_politeness_==HASPOSITIVE==': 0, 'feature_politeness_==HASNEGATIVE==': 0, 'feature_politeness_==SUBJUNCTIVE==': 0, 'feature_politeness_==INDICATIVE==': 0}}, 'vectors': [], 'speaker': Speaker({'obj_type': 'speaker', 'meta': {}, 'vectors': [], 'owner': None, 'id': 'speaker'}), 'conversation_id': None, 'reply_to': None, 'timestamp': None, 'text': 'hello please maybe', 'owner': None, 'id': None})"
      ]
     },
     "execution_count": 19,
     "metadata": {},
     "output_type": "execute_result"
    }
   ],
   "source": []
  },
  {
   "cell_type": "code",
   "execution_count": null,
   "id": "fdcd4ebb-e9b0-412b-8c81-aeb3620cce0d",
   "metadata": {},
   "outputs": [],
   "source": []
  }
 ],
 "metadata": {
  "kernelspec": {
   "display_name": "Python 3 (ipykernel)",
   "language": "python",
   "name": "python3"
  },
  "language_info": {
   "codemirror_mode": {
    "name": "ipython",
    "version": 3
   },
   "file_extension": ".py",
   "mimetype": "text/x-python",
   "name": "python",
   "nbconvert_exporter": "python",
   "pygments_lexer": "ipython3",
   "version": "3.11.2"
  }
 },
 "nbformat": 4,
 "nbformat_minor": 5
}
