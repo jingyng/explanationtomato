{
 "cells": [
  {
   "cell_type": "code",
   "execution_count": 15,
   "id": "63eb052b-6e9f-4b6c-a5a7-d5356ae5f358",
   "metadata": {
    "tags": []
   },
   "outputs": [],
   "source": [
    "import pandas as pd\n",
    "import numpy as np"
   ]
  },
  {
   "cell_type": "code",
   "execution_count": 2,
   "id": "17e78733-53d1-458a-8976-22eab544b51f",
   "metadata": {
    "tags": []
   },
   "outputs": [],
   "source": [
    "df = pd.read_csv('data_files/politeness.csv')"
   ]
  },
  {
   "cell_type": "code",
   "execution_count": 7,
   "id": "e3538180-4ead-489c-a09f-c933c8e98dbb",
   "metadata": {
    "tags": []
   },
   "outputs": [],
   "source": [
    "df['len'] = [len(it.split(' ')) for it in df['txt']]"
   ]
  },
  {
   "cell_type": "code",
   "execution_count": 18,
   "id": "67046215-d8f9-416b-831a-468ccbe463de",
   "metadata": {
    "tags": []
   },
   "outputs": [
    {
     "name": "stdout",
     "output_type": "stream",
     "text": [
      "8.0\n",
      "14.0\n",
      "23.0\n",
      "33.0\n"
     ]
    }
   ],
   "source": [
    "for p in [25,50,75,90]:\n",
    "    print(np.percentile(df['len'],p))"
   ]
  },
  {
   "cell_type": "code",
   "execution_count": 23,
   "id": "689d5061-2b33-439f-90bf-f0e5eeb182da",
   "metadata": {
    "tags": []
   },
   "outputs": [],
   "source": [
    "# sample data from a given dataframe\n",
    "# df is the given dataframe, N is the amount of samples, strategy_dict defines buckets and sampling rate for each bucket\n",
    "# sampling_key defines the column used for bucket sampling, random_state defines the random state of df.sample()\n",
    "def sample_data(df, N, strategy_dict, sampling_key, random_state):\n",
    "    sampled_df = pd.DataFrame()\n",
    "    if strategy_dict:\n",
    "        for key,ratio in strategy_dict.items():\n",
    "            s_df = df[(df[sampling_key]>=key[0])&(df[sampling_key]<key[1])]\n",
    "            #print(len(s_df))\n",
    "            s_df = s_df.sample(min(int(N*ratio),len(s_df)), random_state=random_state)\n",
    "            sampled_df = pd.concat([sampled_df, s_df])\n",
    "    else:\n",
    "        sampled_df = df.sample(min(N,len(df)), random_state=random_state)\n",
    "    return sampled_df\n",
    "\n",
    "def filter_text(text):\n",
    "    spt = text.split(' ')\n",
    "    if len(spt) < 10 or len(spt) > 33:\n",
    "        return False\n",
    "    if spt[0] == 're' or spt[0] == \"forwarded\":\n",
    "        return False\n",
    "    return True"
   ]
  },
  {
   "cell_type": "code",
   "execution_count": 24,
   "id": "557ed03a-98c6-45cc-9df1-f2228d7060c4",
   "metadata": {
    "tags": []
   },
   "outputs": [],
   "source": [
    "df['selected'] = [filter_text(it) for it in df['txt']]"
   ]
  },
  {
   "cell_type": "code",
   "execution_count": 25,
   "id": "43db3076-e047-48da-a306-b7bf0ba4b720",
   "metadata": {
    "tags": []
   },
   "outputs": [
    {
     "data": {
      "text/plain": [
       "selected\n",
       "True     1477130\n",
       "False    1049629\n",
       "dtype: int64"
      ]
     },
     "execution_count": 25,
     "metadata": {},
     "output_type": "execute_result"
    }
   ],
   "source": [
    "df.value_counts('selected')"
   ]
  },
  {
   "cell_type": "code",
   "execution_count": 26,
   "id": "0c0a678a-4af5-4884-9219-b5a80da68619",
   "metadata": {
    "tags": []
   },
   "outputs": [],
   "source": [
    "s_df = df.sample(1000)"
   ]
  },
  {
   "cell_type": "code",
   "execution_count": null,
   "id": "8021616b-d504-4990-a0bf-35c1047417d5",
   "metadata": {},
   "outputs": [],
   "source": []
  },
  {
   "cell_type": "code",
   "execution_count": 28,
   "id": "9eae5c9c-5795-4782-ac2c-c4ea5950e828",
   "metadata": {
    "tags": []
   },
   "outputs": [],
   "source": [
    "s_df['text'] = s_df['txt']\n",
    "s_df['id'] = s_df['sent_id'].astype(str)"
   ]
  },
  {
   "cell_type": "code",
   "execution_count": null,
   "id": "10ae9880-b7de-4494-8e32-577a58287c81",
   "metadata": {},
   "outputs": [],
   "source": []
  },
  {
   "cell_type": "code",
   "execution_count": 10,
   "id": "909b81d1-0aee-4c2d-a6ac-f34897e732e5",
   "metadata": {
    "tags": []
   },
   "outputs": [
    {
     "data": {
      "text/plain": [
       "159201     [ image]= bush with default orpheum theatre tu...\n",
       "711867                         < jwallbillich@glgt.com > , <\n",
       "2271305    to the extent all of our deal costs ( includin...\n",
       "931833     there is also a 10 % discount for one addition...\n",
       "2221369             i asked him if you had told him anything\n",
       "                                 ...                        \n",
       "1421919        thanks , kate kimberly hundl@enron 11/27/2000\n",
       "468833     separately , the firm also moved today to bloc...\n",
       "1046411           the co. # is 0011 and the rc # is 100038 .\n",
       "725448     subject : llgm meetings meeting confirmation :...\n",
       "1697052    need to identify the overall goal and time - f...\n",
       "Name: txt, Length: 1000, dtype: object"
      ]
     },
     "execution_count": 10,
     "metadata": {},
     "output_type": "execute_result"
    }
   ],
   "source": [
    "s_df['txt']"
   ]
  },
  {
   "cell_type": "code",
   "execution_count": 20,
   "id": "8b6ddeae-ca6a-4541-8fe5-e7c6ec7a6688",
   "metadata": {
    "tags": []
   },
   "outputs": [],
   "source": [
    "# Output in JSONL format into a file \n",
    "f=open('data_files/politeness_100.jsonl','w')\n",
    "print(s_df.to_json(orient='records', lines=True),file=f, flush=False)"
   ]
  },
  {
   "cell_type": "code",
   "execution_count": 29,
   "id": "934ea317-6525-4604-ac05-90a22e28a9b2",
   "metadata": {
    "tags": []
   },
   "outputs": [],
   "source": [
    "s_df.drop(columns=['txt','sent_id']).to_csv('data_files/politeness_1000.csv',index=False)"
   ]
  },
  {
   "cell_type": "code",
   "execution_count": null,
   "id": "9a02f398-01fb-4dad-bb87-940b27dde587",
   "metadata": {},
   "outputs": [],
   "source": []
  }
 ],
 "metadata": {
  "kernelspec": {
   "display_name": "Python 3 (ipykernel)",
   "language": "python",
   "name": "python3"
  },
  "language_info": {
   "codemirror_mode": {
    "name": "ipython",
    "version": 3
   },
   "file_extension": ".py",
   "mimetype": "text/x-python",
   "name": "python",
   "nbconvert_exporter": "python",
   "pygments_lexer": "ipython3",
   "version": "3.11.2"
  }
 },
 "nbformat": 4,
 "nbformat_minor": 5
}
