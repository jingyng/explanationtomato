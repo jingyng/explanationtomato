{
 "cells": [
  {
   "cell_type": "code",
   "execution_count": 11,
   "id": "00c3e2c3-4e5d-4838-8420-0d5709680647",
   "metadata": {
    "tags": []
   },
   "outputs": [],
   "source": [
    "import pandas as pd\n",
    "import json\n",
    "from datasets import load_dataset\n",
    "import re"
   ]
  },
  {
   "cell_type": "code",
   "execution_count": 12,
   "id": "86577213-bac8-4cf7-83b9-e78d4424c1e4",
   "metadata": {
    "tags": []
   },
   "outputs": [
    {
     "name": "stderr",
     "output_type": "stream",
     "text": [
      "Downloading readme: 100%|██████████████████| 8.02k/8.02k [00:00<00:00, 2.75MB/s]\n",
      "Found cached dataset squad_v2 (/Users/pedropei/.cache/huggingface/datasets/squad_v2/squad_v2/2.0.0/09187c73c1b837c95d9a249cd97c2c3f1cebada06efe667b4427714b27639b1d)\n",
      "100%|█████████████████████████████████████████████| 2/2 [00:00<00:00, 39.30it/s]\n"
     ]
    }
   ],
   "source": [
    "squad_dataset = load_dataset('squad_v2')"
   ]
  },
  {
   "cell_type": "code",
   "execution_count": 13,
   "id": "502a3a46-486d-4742-9b10-22205c6c6f13",
   "metadata": {
    "tags": []
   },
   "outputs": [],
   "source": [
    "df = pd.DataFrame(squad_dataset['train'])\n"
   ]
  },
  {
   "cell_type": "code",
   "execution_count": 14,
   "id": "4f2a1519-9cfe-4dba-beaa-464a92b8e537",
   "metadata": {
    "tags": []
   },
   "outputs": [],
   "source": [
    "df = df.sample(frac=1)\n",
    "df = df.drop_duplicates(\"context\")"
   ]
  },
  {
   "cell_type": "code",
   "execution_count": 15,
   "id": "bb1a4728-feef-4f5c-b004-3c805a904e36",
   "metadata": {
    "tags": []
   },
   "outputs": [
    {
     "data": {
      "text/plain": [
       "19029"
      ]
     },
     "execution_count": 15,
     "metadata": {},
     "output_type": "execute_result"
    }
   ],
   "source": [
    "len(df)"
   ]
  },
  {
   "cell_type": "code",
   "execution_count": 16,
   "id": "aa52cbd8-0289-4731-afa1-43b184a3ce85",
   "metadata": {
    "tags": []
   },
   "outputs": [
    {
     "data": {
      "text/plain": [
       "Index(['id', 'title', 'context', 'question', 'answers'], dtype='object')"
      ]
     },
     "execution_count": 16,
     "metadata": {},
     "output_type": "execute_result"
    }
   ],
   "source": [
    "df.keys()"
   ]
  },
  {
   "cell_type": "code",
   "execution_count": 17,
   "id": "4daec669-0ed0-47c9-b32d-75c9f36cbfac",
   "metadata": {
    "tags": []
   },
   "outputs": [],
   "source": [
    "df['text'] = ['%s <br> <hr size=\"2\"> <strong>Question: %s</Strong>'%(t,q) for t,q in zip(df['context'],df['question'])]"
   ]
  },
  {
   "cell_type": "code",
   "execution_count": 8,
   "id": "55c578e1-54b6-48bc-9716-7d41fade4fd4",
   "metadata": {
    "tags": []
   },
   "outputs": [],
   "source": [
    "df.to_csv('data_files/squad_train.csv',index=False)"
   ]
  },
  {
   "cell_type": "code",
   "execution_count": 22,
   "id": "cfb5de86-e5e2-4750-9097-8c04c6e1a3b6",
   "metadata": {
    "tags": []
   },
   "outputs": [],
   "source": [
    "df[:1000].to_csv('data_files/squad_1000.csv',index=False)"
   ]
  },
  {
   "cell_type": "code",
   "execution_count": 18,
   "id": "04cf3cb1-924f-4d8d-b4ec-52f15d84b8be",
   "metadata": {
    "tags": []
   },
   "outputs": [
    {
     "data": {
      "text/html": [
       "<div>\n",
       "<style scoped>\n",
       "    .dataframe tbody tr th:only-of-type {\n",
       "        vertical-align: middle;\n",
       "    }\n",
       "\n",
       "    .dataframe tbody tr th {\n",
       "        vertical-align: top;\n",
       "    }\n",
       "\n",
       "    .dataframe thead th {\n",
       "        text-align: right;\n",
       "    }\n",
       "</style>\n",
       "<table border=\"1\" class=\"dataframe\">\n",
       "  <thead>\n",
       "    <tr style=\"text-align: right;\">\n",
       "      <th></th>\n",
       "      <th>id</th>\n",
       "      <th>title</th>\n",
       "      <th>context</th>\n",
       "      <th>question</th>\n",
       "      <th>answers</th>\n",
       "      <th>text</th>\n",
       "    </tr>\n",
       "  </thead>\n",
       "  <tbody>\n",
       "    <tr>\n",
       "      <th>118071</th>\n",
       "      <td>5acfab8877cf76001a6857dc</td>\n",
       "      <td>Namibia</td>\n",
       "      <td>Namibia is the driest country in sub-Saharan A...</td>\n",
       "      <td>What is the record least amount of rain in a y...</td>\n",
       "      <td>{'text': [], 'answer_start': []}</td>\n",
       "      <td>Namibia is the driest country in sub-Saharan A...</td>\n",
       "    </tr>\n",
       "    <tr>\n",
       "      <th>66327</th>\n",
       "      <td>5726b836dd62a815002e8e10</td>\n",
       "      <td>Edmund_Burke</td>\n",
       "      <td>The historian Piers Brendon asserts that Burke...</td>\n",
       "      <td>What did Burke call 'a smuggling adventure'?</td>\n",
       "      <td>{'text': ['opium trade'], 'answer_start': [624]}</td>\n",
       "      <td>The historian Piers Brendon asserts that Burke...</td>\n",
       "    </tr>\n",
       "    <tr>\n",
       "      <th>58825</th>\n",
       "      <td>5726769ff1498d1400e8e08a</td>\n",
       "      <td>Florida</td>\n",
       "      <td>The court ruled in 2014, after lengthy testimo...</td>\n",
       "      <td>What was the court vote on the new congression...</td>\n",
       "      <td>{'text': ['a 5-2 majority of the Court accepte...</td>\n",
       "      <td>The court ruled in 2014, after lengthy testimo...</td>\n",
       "    </tr>\n",
       "    <tr>\n",
       "      <th>115650</th>\n",
       "      <td>5ad49b3eba00c4001a268d60</td>\n",
       "      <td>Windows_8</td>\n",
       "      <td>Windows 8 introduces significant changes to th...</td>\n",
       "      <td>What do dead tiles do?</td>\n",
       "      <td>{'text': [], 'answer_start': []}</td>\n",
       "      <td>Windows 8 introduces significant changes to th...</td>\n",
       "    </tr>\n",
       "    <tr>\n",
       "      <th>72779</th>\n",
       "      <td>5a873f7f1d3cee001a6a113d</td>\n",
       "      <td>Tuberculosis</td>\n",
       "      <td>The BCG vaccine has limitations, and research ...</td>\n",
       "      <td>How many main limitations does the BCG vaccine...</td>\n",
       "      <td>{'text': [], 'answer_start': []}</td>\n",
       "      <td>The BCG vaccine has limitations, and research ...</td>\n",
       "    </tr>\n",
       "    <tr>\n",
       "      <th>...</th>\n",
       "      <td>...</td>\n",
       "      <td>...</td>\n",
       "      <td>...</td>\n",
       "      <td>...</td>\n",
       "      <td>...</td>\n",
       "      <td>...</td>\n",
       "    </tr>\n",
       "    <tr>\n",
       "      <th>12965</th>\n",
       "      <td>56df61968bc80c19004e4b73</td>\n",
       "      <td>Oklahoma_City</td>\n",
       "      <td>Other theaters include Lyric Theatre, Jewel Bo...</td>\n",
       "      <td>When was the Wanda L Bass School of Music and ...</td>\n",
       "      <td>{'text': ['April 2006'], 'answer_start': [312]}</td>\n",
       "      <td>Other theaters include Lyric Theatre, Jewel Bo...</td>\n",
       "    </tr>\n",
       "    <tr>\n",
       "      <th>10043</th>\n",
       "      <td>56df93904a1a83140091eb6c</td>\n",
       "      <td>Lighting</td>\n",
       "      <td>Several measurement methods have been develope...</td>\n",
       "      <td>What does UGR stand for?</td>\n",
       "      <td>{'text': ['Unified Glare Rating'], 'answer_sta...</td>\n",
       "      <td>Several measurement methods have been develope...</td>\n",
       "    </tr>\n",
       "    <tr>\n",
       "      <th>27360</th>\n",
       "      <td>56fad80d8f12f319006301f3</td>\n",
       "      <td>Somalis</td>\n",
       "      <td>In addition, the Somali community has produced...</td>\n",
       "      <td>Along with the Horn of Africa, what is a notab...</td>\n",
       "      <td>{'text': ['the Arabian Peninsula'], 'answer_st...</td>\n",
       "      <td>In addition, the Somali community has produced...</td>\n",
       "    </tr>\n",
       "    <tr>\n",
       "      <th>7374</th>\n",
       "      <td>56d97c68dc89441400fdb4dc</td>\n",
       "      <td>2008_Summer_Olympics_torch_relay</td>\n",
       "      <td>In response to pro-Tibet and pro-human rights ...</td>\n",
       "      <td>What did the Chinese media focus on as far as ...</td>\n",
       "      <td>{'text': ['the more disruptive protesters'], '...</td>\n",
       "      <td>In response to pro-Tibet and pro-human rights ...</td>\n",
       "    </tr>\n",
       "    <tr>\n",
       "      <th>28371</th>\n",
       "      <td>56fdf762761e401900d28c73</td>\n",
       "      <td>Computer</td>\n",
       "      <td>Superscalar computers may contain multiple ALU...</td>\n",
       "      <td>Computers that have multiple ALUs are called w...</td>\n",
       "      <td>{'text': ['Superscalar'], 'answer_start': [0]}</td>\n",
       "      <td>Superscalar computers may contain multiple ALU...</td>\n",
       "    </tr>\n",
       "  </tbody>\n",
       "</table>\n",
       "<p>19029 rows × 6 columns</p>\n",
       "</div>"
      ],
      "text/plain": [
       "                              id                             title  \\\n",
       "118071  5acfab8877cf76001a6857dc                           Namibia   \n",
       "66327   5726b836dd62a815002e8e10                      Edmund_Burke   \n",
       "58825   5726769ff1498d1400e8e08a                           Florida   \n",
       "115650  5ad49b3eba00c4001a268d60                         Windows_8   \n",
       "72779   5a873f7f1d3cee001a6a113d                      Tuberculosis   \n",
       "...                          ...                               ...   \n",
       "12965   56df61968bc80c19004e4b73                     Oklahoma_City   \n",
       "10043   56df93904a1a83140091eb6c                          Lighting   \n",
       "27360   56fad80d8f12f319006301f3                           Somalis   \n",
       "7374    56d97c68dc89441400fdb4dc  2008_Summer_Olympics_torch_relay   \n",
       "28371   56fdf762761e401900d28c73                          Computer   \n",
       "\n",
       "                                                  context  \\\n",
       "118071  Namibia is the driest country in sub-Saharan A...   \n",
       "66327   The historian Piers Brendon asserts that Burke...   \n",
       "58825   The court ruled in 2014, after lengthy testimo...   \n",
       "115650  Windows 8 introduces significant changes to th...   \n",
       "72779   The BCG vaccine has limitations, and research ...   \n",
       "...                                                   ...   \n",
       "12965   Other theaters include Lyric Theatre, Jewel Bo...   \n",
       "10043   Several measurement methods have been develope...   \n",
       "27360   In addition, the Somali community has produced...   \n",
       "7374    In response to pro-Tibet and pro-human rights ...   \n",
       "28371   Superscalar computers may contain multiple ALU...   \n",
       "\n",
       "                                                 question  \\\n",
       "118071  What is the record least amount of rain in a y...   \n",
       "66327        What did Burke call 'a smuggling adventure'?   \n",
       "58825   What was the court vote on the new congression...   \n",
       "115650                             What do dead tiles do?   \n",
       "72779   How many main limitations does the BCG vaccine...   \n",
       "...                                                   ...   \n",
       "12965   When was the Wanda L Bass School of Music and ...   \n",
       "10043                            What does UGR stand for?   \n",
       "27360   Along with the Horn of Africa, what is a notab...   \n",
       "7374    What did the Chinese media focus on as far as ...   \n",
       "28371   Computers that have multiple ALUs are called w...   \n",
       "\n",
       "                                                  answers  \\\n",
       "118071                   {'text': [], 'answer_start': []}   \n",
       "66327    {'text': ['opium trade'], 'answer_start': [624]}   \n",
       "58825   {'text': ['a 5-2 majority of the Court accepte...   \n",
       "115650                   {'text': [], 'answer_start': []}   \n",
       "72779                    {'text': [], 'answer_start': []}   \n",
       "...                                                   ...   \n",
       "12965     {'text': ['April 2006'], 'answer_start': [312]}   \n",
       "10043   {'text': ['Unified Glare Rating'], 'answer_sta...   \n",
       "27360   {'text': ['the Arabian Peninsula'], 'answer_st...   \n",
       "7374    {'text': ['the more disruptive protesters'], '...   \n",
       "28371      {'text': ['Superscalar'], 'answer_start': [0]}   \n",
       "\n",
       "                                                     text  \n",
       "118071  Namibia is the driest country in sub-Saharan A...  \n",
       "66327   The historian Piers Brendon asserts that Burke...  \n",
       "58825   The court ruled in 2014, after lengthy testimo...  \n",
       "115650  Windows 8 introduces significant changes to th...  \n",
       "72779   The BCG vaccine has limitations, and research ...  \n",
       "...                                                   ...  \n",
       "12965   Other theaters include Lyric Theatre, Jewel Bo...  \n",
       "10043   Several measurement methods have been develope...  \n",
       "27360   In addition, the Somali community has produced...  \n",
       "7374    In response to pro-Tibet and pro-human rights ...  \n",
       "28371   Superscalar computers may contain multiple ALU...  \n",
       "\n",
       "[19029 rows x 6 columns]"
      ]
     },
     "execution_count": 18,
     "metadata": {},
     "output_type": "execute_result"
    }
   ],
   "source": [
    "df"
   ]
  },
  {
   "cell_type": "code",
   "execution_count": 54,
   "id": "88d1eb1e-cfc4-49ff-b8c7-d962c38991b6",
   "metadata": {
    "tags": []
   },
   "outputs": [],
   "source": [
    "f=open('data_files/squad_train.jsonl','w')\n",
    "print(df.to_json(orient='records', lines=True),file=f, flush=False)"
   ]
  },
  {
   "cell_type": "code",
   "execution_count": null,
   "id": "db0aa126-67bd-4376-9186-838dd21891f7",
   "metadata": {
    "tags": []
   },
   "outputs": [
    {
     "ename": "KeyError",
     "evalue": "'text_full'",
     "output_type": "error",
     "traceback": [
      "\u001B[0;31m---------------------------------------------------------------------------\u001B[0m",
      "\u001B[0;31mKeyError\u001B[0m                                  Traceback (most recent call last)",
      "File \u001B[0;32m/opt/homebrew/lib/python3.11/site-packages/pandas/core/indexes/base.py:3802\u001B[0m, in \u001B[0;36mIndex.get_loc\u001B[0;34m(self, key, method, tolerance)\u001B[0m\n\u001B[1;32m   3801\u001B[0m \u001B[38;5;28;01mtry\u001B[39;00m:\n\u001B[0;32m-> 3802\u001B[0m     \u001B[38;5;28;01mreturn\u001B[39;00m \u001B[38;5;28;43mself\u001B[39;49m\u001B[38;5;241;43m.\u001B[39;49m\u001B[43m_engine\u001B[49m\u001B[38;5;241;43m.\u001B[39;49m\u001B[43mget_loc\u001B[49m\u001B[43m(\u001B[49m\u001B[43mcasted_key\u001B[49m\u001B[43m)\u001B[49m\n\u001B[1;32m   3803\u001B[0m \u001B[38;5;28;01mexcept\u001B[39;00m \u001B[38;5;167;01mKeyError\u001B[39;00m \u001B[38;5;28;01mas\u001B[39;00m err:\n",
      "File \u001B[0;32m/opt/homebrew/lib/python3.11/site-packages/pandas/_libs/index.pyx:138\u001B[0m, in \u001B[0;36mpandas._libs.index.IndexEngine.get_loc\u001B[0;34m()\u001B[0m\n",
      "File \u001B[0;32m/opt/homebrew/lib/python3.11/site-packages/pandas/_libs/index.pyx:165\u001B[0m, in \u001B[0;36mpandas._libs.index.IndexEngine.get_loc\u001B[0;34m()\u001B[0m\n",
      "File \u001B[0;32mpandas/_libs/hashtable_class_helper.pxi:5745\u001B[0m, in \u001B[0;36mpandas._libs.hashtable.PyObjectHashTable.get_item\u001B[0;34m()\u001B[0m\n",
      "File \u001B[0;32mpandas/_libs/hashtable_class_helper.pxi:5753\u001B[0m, in \u001B[0;36mpandas._libs.hashtable.PyObjectHashTable.get_item\u001B[0;34m()\u001B[0m\n",
      "\u001B[0;31mKeyError\u001B[0m: 'text_full'",
      "\nThe above exception was the direct cause of the following exception:\n",
      "\u001B[0;31mKeyError\u001B[0m                                  Traceback (most recent call last)",
      "Cell \u001B[0;32mIn[55], line 1\u001B[0m\n\u001B[0;32m----> 1\u001B[0m \u001B[43mdf\u001B[49m\u001B[43m[\u001B[49m\u001B[38;5;124;43m'\u001B[39;49m\u001B[38;5;124;43mtext_full\u001B[39;49m\u001B[38;5;124;43m'\u001B[39;49m\u001B[43m]\u001B[49m\n",
      "File \u001B[0;32m/opt/homebrew/lib/python3.11/site-packages/pandas/core/frame.py:3807\u001B[0m, in \u001B[0;36mDataFrame.__getitem__\u001B[0;34m(self, key)\u001B[0m\n\u001B[1;32m   3805\u001B[0m \u001B[38;5;28;01mif\u001B[39;00m \u001B[38;5;28mself\u001B[39m\u001B[38;5;241m.\u001B[39mcolumns\u001B[38;5;241m.\u001B[39mnlevels \u001B[38;5;241m>\u001B[39m \u001B[38;5;241m1\u001B[39m:\n\u001B[1;32m   3806\u001B[0m     \u001B[38;5;28;01mreturn\u001B[39;00m \u001B[38;5;28mself\u001B[39m\u001B[38;5;241m.\u001B[39m_getitem_multilevel(key)\n\u001B[0;32m-> 3807\u001B[0m indexer \u001B[38;5;241m=\u001B[39m \u001B[38;5;28;43mself\u001B[39;49m\u001B[38;5;241;43m.\u001B[39;49m\u001B[43mcolumns\u001B[49m\u001B[38;5;241;43m.\u001B[39;49m\u001B[43mget_loc\u001B[49m\u001B[43m(\u001B[49m\u001B[43mkey\u001B[49m\u001B[43m)\u001B[49m\n\u001B[1;32m   3808\u001B[0m \u001B[38;5;28;01mif\u001B[39;00m is_integer(indexer):\n\u001B[1;32m   3809\u001B[0m     indexer \u001B[38;5;241m=\u001B[39m [indexer]\n",
      "File \u001B[0;32m/opt/homebrew/lib/python3.11/site-packages/pandas/core/indexes/base.py:3804\u001B[0m, in \u001B[0;36mIndex.get_loc\u001B[0;34m(self, key, method, tolerance)\u001B[0m\n\u001B[1;32m   3802\u001B[0m     \u001B[38;5;28;01mreturn\u001B[39;00m \u001B[38;5;28mself\u001B[39m\u001B[38;5;241m.\u001B[39m_engine\u001B[38;5;241m.\u001B[39mget_loc(casted_key)\n\u001B[1;32m   3803\u001B[0m \u001B[38;5;28;01mexcept\u001B[39;00m \u001B[38;5;167;01mKeyError\u001B[39;00m \u001B[38;5;28;01mas\u001B[39;00m err:\n\u001B[0;32m-> 3804\u001B[0m     \u001B[38;5;28;01mraise\u001B[39;00m \u001B[38;5;167;01mKeyError\u001B[39;00m(key) \u001B[38;5;28;01mfrom\u001B[39;00m \u001B[38;5;21;01merr\u001B[39;00m\n\u001B[1;32m   3805\u001B[0m \u001B[38;5;28;01mexcept\u001B[39;00m \u001B[38;5;167;01mTypeError\u001B[39;00m:\n\u001B[1;32m   3806\u001B[0m     \u001B[38;5;66;03m# If we have a listlike key, _check_indexing_error will raise\u001B[39;00m\n\u001B[1;32m   3807\u001B[0m     \u001B[38;5;66;03m#  InvalidIndexError. Otherwise we fall through and re-raise\u001B[39;00m\n\u001B[1;32m   3808\u001B[0m     \u001B[38;5;66;03m#  the TypeError.\u001B[39;00m\n\u001B[1;32m   3809\u001B[0m     \u001B[38;5;28mself\u001B[39m\u001B[38;5;241m.\u001B[39m_check_indexing_error(key)\n",
      "\u001B[0;31mKeyError\u001B[0m: 'text_full'"
     ]
    }
   ],
   "source": [
    "df['text_full']"
   ]
  },
  {
   "cell_type": "code",
   "execution_count": 19,
   "id": "8a3562de-c64f-4340-8893-a4458a753cb6",
   "metadata": {},
   "outputs": [],
   "source": [
    "df['answer_num'] = [len(a['text']) for a in df['answers']]"
   ]
  },
  {
   "cell_type": "code",
   "execution_count": 20,
   "id": "bd815790-eb1b-434e-8835-9d04bad43f4a",
   "metadata": {
    "tags": []
   },
   "outputs": [
    {
     "data": {
      "text/plain": [
       "1    14456\n",
       "0     4573\n",
       "Name: answer_num, dtype: int64"
      ]
     },
     "execution_count": 20,
     "metadata": {},
     "output_type": "execute_result"
    }
   ],
   "source": [
    "df['answer_num'].value_counts()"
   ]
  },
  {
   "cell_type": "code",
   "execution_count": 21,
   "id": "04ca24d7-b6e1-45c9-848b-b1145ecfd72c",
   "metadata": {},
   "outputs": [
    {
     "data": {
      "text/plain": [
       "1    695\n",
       "0    305\n",
       "Name: answer_num, dtype: int64"
      ]
     },
     "execution_count": 21,
     "metadata": {},
     "output_type": "execute_result"
    }
   ],
   "source": [
    "df[:1000]['answer_num'].value_counts()"
   ]
  },
  {
   "cell_type": "code",
   "execution_count": null,
   "id": "93fae668-9499-4f30-bfb2-f860ebbc887b",
   "metadata": {},
   "outputs": [],
   "source": []
  }
 ],
 "metadata": {
  "kernelspec": {
   "display_name": "Python 3 (ipykernel)",
   "language": "python",
   "name": "python3"
  },
  "language_info": {
   "codemirror_mode": {
    "name": "ipython",
    "version": 3
   },
   "file_extension": ".py",
   "mimetype": "text/x-python",
   "name": "python",
   "nbconvert_exporter": "python",
   "pygments_lexer": "ipython3",
   "version": "3.11.2"
  }
 },
 "nbformat": 4,
 "nbformat_minor": 5
}
